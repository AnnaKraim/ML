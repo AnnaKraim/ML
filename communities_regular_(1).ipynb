{
  "nbformat": 4,
  "nbformat_minor": 0,
  "metadata": {
    "colab": {
      "name": "communities_regular (1).ipynb",
      "provenance": [],
      "collapsed_sections": [],
      "include_colab_link": true
    },
    "kernelspec": {
      "name": "python3",
      "display_name": "Python 3"
    }
  },
  "cells": [
    {
      "cell_type": "markdown",
      "metadata": {
        "id": "view-in-github",
        "colab_type": "text"
      },
      "source": [
        "<a href=\"https://colab.research.google.com/github/AnnaKraim/ML/blob/main/communities_regular_(1).ipynb\" target=\"_parent\"><img src=\"https://colab.research.google.com/assets/colab-badge.svg\" alt=\"Open In Colab\"/></a>"
      ]
    },
    {
      "cell_type": "code",
      "metadata": {
        "id": "2ZoIZ7b8kLBt"
      },
      "source": [
        "%matplotlib inline\n",
        "import pandas as pd\n",
        "import numpy as np\n",
        "import matplotlib.pyplot as plt\n",
        "\n"
      ],
      "execution_count": null,
      "outputs": []
    },
    {
      "cell_type": "markdown",
      "metadata": {
        "id": "dV0mXx87lCoN"
      },
      "source": [
        "Будем работать с [датасетом](http://archive.ics.uci.edu/ml/datasets/communities+and+crime) районов и преступлений"
      ]
    },
    {
      "cell_type": "code",
      "metadata": {
        "id": "e7d4QAVglJmC"
      },
      "source": [
        "df = pd.read_csv('communities.csv')"
      ],
      "execution_count": null,
      "outputs": []
    },
    {
      "cell_type": "code",
      "metadata": {
        "id": "mr0hSZFVlTwr",
        "outputId": "1d00ba99-99b7-48fc-dc78-af42b56a5c56",
        "colab": {
          "base_uri": "https://localhost:8080/",
          "height": 244
        }
      },
      "source": [
        "df.head()"
      ],
      "execution_count": null,
      "outputs": [
        {
          "output_type": "execute_result",
          "data": {
            "text/html": [
              "<div>\n",
              "<style scoped>\n",
              "    .dataframe tbody tr th:only-of-type {\n",
              "        vertical-align: middle;\n",
              "    }\n",
              "\n",
              "    .dataframe tbody tr th {\n",
              "        vertical-align: top;\n",
              "    }\n",
              "\n",
              "    .dataframe thead th {\n",
              "        text-align: right;\n",
              "    }\n",
              "</style>\n",
              "<table border=\"1\" class=\"dataframe\">\n",
              "  <thead>\n",
              "    <tr style=\"text-align: right;\">\n",
              "      <th></th>\n",
              "      <th>population</th>\n",
              "      <th>householdsize</th>\n",
              "      <th>racepctblack</th>\n",
              "      <th>racePctWhite</th>\n",
              "      <th>racePctAsian</th>\n",
              "      <th>racePctHisp</th>\n",
              "      <th>agePct12t21</th>\n",
              "      <th>agePct12t29</th>\n",
              "      <th>agePct16t24</th>\n",
              "      <th>agePct65up</th>\n",
              "      <th>numbUrban</th>\n",
              "      <th>pctUrban</th>\n",
              "      <th>medIncome</th>\n",
              "      <th>pctWWage</th>\n",
              "      <th>pctWFarmSelf</th>\n",
              "      <th>pctWInvInc</th>\n",
              "      <th>pctWSocSec</th>\n",
              "      <th>pctWPubAsst</th>\n",
              "      <th>pctWRetire</th>\n",
              "      <th>medFamInc</th>\n",
              "      <th>perCapInc</th>\n",
              "      <th>whitePerCap</th>\n",
              "      <th>blackPerCap</th>\n",
              "      <th>indianPerCap</th>\n",
              "      <th>AsianPerCap</th>\n",
              "      <th>OtherPerCap</th>\n",
              "      <th>HispPerCap</th>\n",
              "      <th>NumUnderPov</th>\n",
              "      <th>PctPopUnderPov</th>\n",
              "      <th>PctLess9thGrade</th>\n",
              "      <th>PctNotHSGrad</th>\n",
              "      <th>PctBSorMore</th>\n",
              "      <th>PctUnemployed</th>\n",
              "      <th>PctEmploy</th>\n",
              "      <th>PctEmplManu</th>\n",
              "      <th>PctEmplProfServ</th>\n",
              "      <th>PctOccupManu</th>\n",
              "      <th>PctOccupMgmtProf</th>\n",
              "      <th>MalePctDivorce</th>\n",
              "      <th>MalePctNevMarr</th>\n",
              "      <th>...</th>\n",
              "      <th>RentMedian</th>\n",
              "      <th>RentHighQ</th>\n",
              "      <th>MedRent</th>\n",
              "      <th>MedRentPctHousInc</th>\n",
              "      <th>MedOwnCostPctInc</th>\n",
              "      <th>MedOwnCostPctIncNoMtg</th>\n",
              "      <th>NumInShelters</th>\n",
              "      <th>NumStreet</th>\n",
              "      <th>PctForeignBorn</th>\n",
              "      <th>PctBornSameState</th>\n",
              "      <th>PctSameHouse85</th>\n",
              "      <th>PctSameCity85</th>\n",
              "      <th>PctSameState85</th>\n",
              "      <th>LemasSwornFT</th>\n",
              "      <th>LemasSwFTPerPop</th>\n",
              "      <th>LemasSwFTFieldOps</th>\n",
              "      <th>LemasSwFTFieldPerPop</th>\n",
              "      <th>LemasTotalReq</th>\n",
              "      <th>LemasTotReqPerPop</th>\n",
              "      <th>PolicReqPerOffic</th>\n",
              "      <th>PolicPerPop</th>\n",
              "      <th>RacialMatchCommPol</th>\n",
              "      <th>PctPolicWhite</th>\n",
              "      <th>PctPolicBlack</th>\n",
              "      <th>PctPolicHisp</th>\n",
              "      <th>PctPolicAsian</th>\n",
              "      <th>PctPolicMinor</th>\n",
              "      <th>OfficAssgnDrugUnits</th>\n",
              "      <th>NumKindsDrugsSeiz</th>\n",
              "      <th>PolicAveOTWorked</th>\n",
              "      <th>LandArea</th>\n",
              "      <th>PopDens</th>\n",
              "      <th>PctUsePubTrans</th>\n",
              "      <th>PolicCars</th>\n",
              "      <th>PolicOperBudg</th>\n",
              "      <th>LemasPctPolicOnPatr</th>\n",
              "      <th>LemasGangUnitDeploy</th>\n",
              "      <th>LemasPctOfficDrugUn</th>\n",
              "      <th>PolicBudgPerPop</th>\n",
              "      <th>ViolentCrimesPerPop</th>\n",
              "    </tr>\n",
              "  </thead>\n",
              "  <tbody>\n",
              "    <tr>\n",
              "      <th>0</th>\n",
              "      <td>0.19</td>\n",
              "      <td>0.33</td>\n",
              "      <td>0.02</td>\n",
              "      <td>0.90</td>\n",
              "      <td>0.12</td>\n",
              "      <td>0.17</td>\n",
              "      <td>0.34</td>\n",
              "      <td>0.47</td>\n",
              "      <td>0.29</td>\n",
              "      <td>0.32</td>\n",
              "      <td>0.20</td>\n",
              "      <td>1.0</td>\n",
              "      <td>0.37</td>\n",
              "      <td>0.72</td>\n",
              "      <td>0.34</td>\n",
              "      <td>0.60</td>\n",
              "      <td>0.29</td>\n",
              "      <td>0.15</td>\n",
              "      <td>0.43</td>\n",
              "      <td>0.39</td>\n",
              "      <td>0.40</td>\n",
              "      <td>0.39</td>\n",
              "      <td>0.32</td>\n",
              "      <td>0.27</td>\n",
              "      <td>0.27</td>\n",
              "      <td>0.36</td>\n",
              "      <td>0.41</td>\n",
              "      <td>0.08</td>\n",
              "      <td>0.19</td>\n",
              "      <td>0.10</td>\n",
              "      <td>0.18</td>\n",
              "      <td>0.48</td>\n",
              "      <td>0.27</td>\n",
              "      <td>0.68</td>\n",
              "      <td>0.23</td>\n",
              "      <td>0.41</td>\n",
              "      <td>0.25</td>\n",
              "      <td>0.52</td>\n",
              "      <td>0.68</td>\n",
              "      <td>0.40</td>\n",
              "      <td>...</td>\n",
              "      <td>0.35</td>\n",
              "      <td>0.38</td>\n",
              "      <td>0.34</td>\n",
              "      <td>0.38</td>\n",
              "      <td>0.46</td>\n",
              "      <td>0.25</td>\n",
              "      <td>0.04</td>\n",
              "      <td>0.0</td>\n",
              "      <td>0.12</td>\n",
              "      <td>0.42</td>\n",
              "      <td>0.50</td>\n",
              "      <td>0.51</td>\n",
              "      <td>0.64</td>\n",
              "      <td>0.030000</td>\n",
              "      <td>0.130000</td>\n",
              "      <td>0.960000</td>\n",
              "      <td>0.170000</td>\n",
              "      <td>0.060000</td>\n",
              "      <td>0.180000</td>\n",
              "      <td>0.440000</td>\n",
              "      <td>0.130000</td>\n",
              "      <td>0.940000</td>\n",
              "      <td>0.930000</td>\n",
              "      <td>0.03000</td>\n",
              "      <td>0.070000</td>\n",
              "      <td>0.100000</td>\n",
              "      <td>0.070000</td>\n",
              "      <td>0.020000</td>\n",
              "      <td>0.57000</td>\n",
              "      <td>0.290000</td>\n",
              "      <td>0.12</td>\n",
              "      <td>0.26</td>\n",
              "      <td>0.20</td>\n",
              "      <td>0.060000</td>\n",
              "      <td>0.040000</td>\n",
              "      <td>0.900000</td>\n",
              "      <td>0.500000</td>\n",
              "      <td>0.32</td>\n",
              "      <td>0.140000</td>\n",
              "      <td>0.20</td>\n",
              "    </tr>\n",
              "    <tr>\n",
              "      <th>1</th>\n",
              "      <td>0.00</td>\n",
              "      <td>0.16</td>\n",
              "      <td>0.12</td>\n",
              "      <td>0.74</td>\n",
              "      <td>0.45</td>\n",
              "      <td>0.07</td>\n",
              "      <td>0.26</td>\n",
              "      <td>0.59</td>\n",
              "      <td>0.35</td>\n",
              "      <td>0.27</td>\n",
              "      <td>0.02</td>\n",
              "      <td>1.0</td>\n",
              "      <td>0.31</td>\n",
              "      <td>0.72</td>\n",
              "      <td>0.11</td>\n",
              "      <td>0.45</td>\n",
              "      <td>0.25</td>\n",
              "      <td>0.29</td>\n",
              "      <td>0.39</td>\n",
              "      <td>0.29</td>\n",
              "      <td>0.37</td>\n",
              "      <td>0.38</td>\n",
              "      <td>0.33</td>\n",
              "      <td>0.16</td>\n",
              "      <td>0.30</td>\n",
              "      <td>0.22</td>\n",
              "      <td>0.35</td>\n",
              "      <td>0.01</td>\n",
              "      <td>0.24</td>\n",
              "      <td>0.14</td>\n",
              "      <td>0.24</td>\n",
              "      <td>0.30</td>\n",
              "      <td>0.27</td>\n",
              "      <td>0.73</td>\n",
              "      <td>0.57</td>\n",
              "      <td>0.15</td>\n",
              "      <td>0.42</td>\n",
              "      <td>0.36</td>\n",
              "      <td>1.00</td>\n",
              "      <td>0.63</td>\n",
              "      <td>...</td>\n",
              "      <td>0.38</td>\n",
              "      <td>0.40</td>\n",
              "      <td>0.37</td>\n",
              "      <td>0.29</td>\n",
              "      <td>0.32</td>\n",
              "      <td>0.18</td>\n",
              "      <td>0.00</td>\n",
              "      <td>0.0</td>\n",
              "      <td>0.21</td>\n",
              "      <td>0.50</td>\n",
              "      <td>0.34</td>\n",
              "      <td>0.60</td>\n",
              "      <td>0.52</td>\n",
              "      <td>0.069655</td>\n",
              "      <td>0.217461</td>\n",
              "      <td>0.924734</td>\n",
              "      <td>0.246332</td>\n",
              "      <td>0.097994</td>\n",
              "      <td>0.215204</td>\n",
              "      <td>0.343636</td>\n",
              "      <td>0.217492</td>\n",
              "      <td>0.689404</td>\n",
              "      <td>0.726959</td>\n",
              "      <td>0.22047</td>\n",
              "      <td>0.134859</td>\n",
              "      <td>0.114859</td>\n",
              "      <td>0.259185</td>\n",
              "      <td>0.075549</td>\n",
              "      <td>0.55605</td>\n",
              "      <td>0.305987</td>\n",
              "      <td>0.02</td>\n",
              "      <td>0.12</td>\n",
              "      <td>0.45</td>\n",
              "      <td>0.163103</td>\n",
              "      <td>0.076708</td>\n",
              "      <td>0.698589</td>\n",
              "      <td>0.440439</td>\n",
              "      <td>0.00</td>\n",
              "      <td>0.195078</td>\n",
              "      <td>0.67</td>\n",
              "    </tr>\n",
              "    <tr>\n",
              "      <th>2</th>\n",
              "      <td>0.00</td>\n",
              "      <td>0.42</td>\n",
              "      <td>0.49</td>\n",
              "      <td>0.56</td>\n",
              "      <td>0.17</td>\n",
              "      <td>0.04</td>\n",
              "      <td>0.39</td>\n",
              "      <td>0.47</td>\n",
              "      <td>0.28</td>\n",
              "      <td>0.32</td>\n",
              "      <td>0.00</td>\n",
              "      <td>0.0</td>\n",
              "      <td>0.30</td>\n",
              "      <td>0.58</td>\n",
              "      <td>0.19</td>\n",
              "      <td>0.39</td>\n",
              "      <td>0.38</td>\n",
              "      <td>0.40</td>\n",
              "      <td>0.84</td>\n",
              "      <td>0.28</td>\n",
              "      <td>0.27</td>\n",
              "      <td>0.29</td>\n",
              "      <td>0.27</td>\n",
              "      <td>0.07</td>\n",
              "      <td>0.29</td>\n",
              "      <td>0.28</td>\n",
              "      <td>0.39</td>\n",
              "      <td>0.01</td>\n",
              "      <td>0.27</td>\n",
              "      <td>0.27</td>\n",
              "      <td>0.43</td>\n",
              "      <td>0.19</td>\n",
              "      <td>0.36</td>\n",
              "      <td>0.58</td>\n",
              "      <td>0.32</td>\n",
              "      <td>0.29</td>\n",
              "      <td>0.49</td>\n",
              "      <td>0.32</td>\n",
              "      <td>0.63</td>\n",
              "      <td>0.41</td>\n",
              "      <td>...</td>\n",
              "      <td>0.29</td>\n",
              "      <td>0.27</td>\n",
              "      <td>0.31</td>\n",
              "      <td>0.48</td>\n",
              "      <td>0.39</td>\n",
              "      <td>0.28</td>\n",
              "      <td>0.00</td>\n",
              "      <td>0.0</td>\n",
              "      <td>0.14</td>\n",
              "      <td>0.49</td>\n",
              "      <td>0.54</td>\n",
              "      <td>0.67</td>\n",
              "      <td>0.56</td>\n",
              "      <td>0.069655</td>\n",
              "      <td>0.217461</td>\n",
              "      <td>0.924734</td>\n",
              "      <td>0.246332</td>\n",
              "      <td>0.097994</td>\n",
              "      <td>0.215204</td>\n",
              "      <td>0.343636</td>\n",
              "      <td>0.217492</td>\n",
              "      <td>0.689404</td>\n",
              "      <td>0.726959</td>\n",
              "      <td>0.22047</td>\n",
              "      <td>0.134859</td>\n",
              "      <td>0.114859</td>\n",
              "      <td>0.259185</td>\n",
              "      <td>0.075549</td>\n",
              "      <td>0.55605</td>\n",
              "      <td>0.305987</td>\n",
              "      <td>0.01</td>\n",
              "      <td>0.21</td>\n",
              "      <td>0.02</td>\n",
              "      <td>0.163103</td>\n",
              "      <td>0.076708</td>\n",
              "      <td>0.698589</td>\n",
              "      <td>0.440439</td>\n",
              "      <td>0.00</td>\n",
              "      <td>0.195078</td>\n",
              "      <td>0.43</td>\n",
              "    </tr>\n",
              "    <tr>\n",
              "      <th>3</th>\n",
              "      <td>0.04</td>\n",
              "      <td>0.77</td>\n",
              "      <td>1.00</td>\n",
              "      <td>0.08</td>\n",
              "      <td>0.12</td>\n",
              "      <td>0.10</td>\n",
              "      <td>0.51</td>\n",
              "      <td>0.50</td>\n",
              "      <td>0.34</td>\n",
              "      <td>0.21</td>\n",
              "      <td>0.06</td>\n",
              "      <td>1.0</td>\n",
              "      <td>0.58</td>\n",
              "      <td>0.89</td>\n",
              "      <td>0.21</td>\n",
              "      <td>0.43</td>\n",
              "      <td>0.36</td>\n",
              "      <td>0.20</td>\n",
              "      <td>0.82</td>\n",
              "      <td>0.51</td>\n",
              "      <td>0.36</td>\n",
              "      <td>0.40</td>\n",
              "      <td>0.39</td>\n",
              "      <td>0.16</td>\n",
              "      <td>0.25</td>\n",
              "      <td>0.36</td>\n",
              "      <td>0.44</td>\n",
              "      <td>0.01</td>\n",
              "      <td>0.10</td>\n",
              "      <td>0.09</td>\n",
              "      <td>0.25</td>\n",
              "      <td>0.31</td>\n",
              "      <td>0.33</td>\n",
              "      <td>0.71</td>\n",
              "      <td>0.36</td>\n",
              "      <td>0.45</td>\n",
              "      <td>0.37</td>\n",
              "      <td>0.39</td>\n",
              "      <td>0.34</td>\n",
              "      <td>0.45</td>\n",
              "      <td>...</td>\n",
              "      <td>0.70</td>\n",
              "      <td>0.77</td>\n",
              "      <td>0.89</td>\n",
              "      <td>0.63</td>\n",
              "      <td>0.51</td>\n",
              "      <td>0.47</td>\n",
              "      <td>0.00</td>\n",
              "      <td>0.0</td>\n",
              "      <td>0.19</td>\n",
              "      <td>0.30</td>\n",
              "      <td>0.73</td>\n",
              "      <td>0.64</td>\n",
              "      <td>0.65</td>\n",
              "      <td>0.069655</td>\n",
              "      <td>0.217461</td>\n",
              "      <td>0.924734</td>\n",
              "      <td>0.246332</td>\n",
              "      <td>0.097994</td>\n",
              "      <td>0.215204</td>\n",
              "      <td>0.343636</td>\n",
              "      <td>0.217492</td>\n",
              "      <td>0.689404</td>\n",
              "      <td>0.726959</td>\n",
              "      <td>0.22047</td>\n",
              "      <td>0.134859</td>\n",
              "      <td>0.114859</td>\n",
              "      <td>0.259185</td>\n",
              "      <td>0.075549</td>\n",
              "      <td>0.55605</td>\n",
              "      <td>0.305987</td>\n",
              "      <td>0.02</td>\n",
              "      <td>0.39</td>\n",
              "      <td>0.28</td>\n",
              "      <td>0.163103</td>\n",
              "      <td>0.076708</td>\n",
              "      <td>0.698589</td>\n",
              "      <td>0.440439</td>\n",
              "      <td>0.00</td>\n",
              "      <td>0.195078</td>\n",
              "      <td>0.12</td>\n",
              "    </tr>\n",
              "    <tr>\n",
              "      <th>4</th>\n",
              "      <td>0.01</td>\n",
              "      <td>0.55</td>\n",
              "      <td>0.02</td>\n",
              "      <td>0.95</td>\n",
              "      <td>0.09</td>\n",
              "      <td>0.05</td>\n",
              "      <td>0.38</td>\n",
              "      <td>0.38</td>\n",
              "      <td>0.23</td>\n",
              "      <td>0.36</td>\n",
              "      <td>0.02</td>\n",
              "      <td>0.9</td>\n",
              "      <td>0.50</td>\n",
              "      <td>0.72</td>\n",
              "      <td>0.16</td>\n",
              "      <td>0.68</td>\n",
              "      <td>0.44</td>\n",
              "      <td>0.11</td>\n",
              "      <td>0.71</td>\n",
              "      <td>0.46</td>\n",
              "      <td>0.43</td>\n",
              "      <td>0.41</td>\n",
              "      <td>0.28</td>\n",
              "      <td>0.00</td>\n",
              "      <td>0.74</td>\n",
              "      <td>0.51</td>\n",
              "      <td>0.48</td>\n",
              "      <td>0.00</td>\n",
              "      <td>0.06</td>\n",
              "      <td>0.25</td>\n",
              "      <td>0.30</td>\n",
              "      <td>0.33</td>\n",
              "      <td>0.12</td>\n",
              "      <td>0.65</td>\n",
              "      <td>0.67</td>\n",
              "      <td>0.38</td>\n",
              "      <td>0.42</td>\n",
              "      <td>0.46</td>\n",
              "      <td>0.22</td>\n",
              "      <td>0.27</td>\n",
              "      <td>...</td>\n",
              "      <td>0.36</td>\n",
              "      <td>0.38</td>\n",
              "      <td>0.38</td>\n",
              "      <td>0.22</td>\n",
              "      <td>0.51</td>\n",
              "      <td>0.21</td>\n",
              "      <td>0.00</td>\n",
              "      <td>0.0</td>\n",
              "      <td>0.11</td>\n",
              "      <td>0.72</td>\n",
              "      <td>0.64</td>\n",
              "      <td>0.61</td>\n",
              "      <td>0.53</td>\n",
              "      <td>0.069655</td>\n",
              "      <td>0.217461</td>\n",
              "      <td>0.924734</td>\n",
              "      <td>0.246332</td>\n",
              "      <td>0.097994</td>\n",
              "      <td>0.215204</td>\n",
              "      <td>0.343636</td>\n",
              "      <td>0.217492</td>\n",
              "      <td>0.689404</td>\n",
              "      <td>0.726959</td>\n",
              "      <td>0.22047</td>\n",
              "      <td>0.134859</td>\n",
              "      <td>0.114859</td>\n",
              "      <td>0.259185</td>\n",
              "      <td>0.075549</td>\n",
              "      <td>0.55605</td>\n",
              "      <td>0.305987</td>\n",
              "      <td>0.04</td>\n",
              "      <td>0.09</td>\n",
              "      <td>0.02</td>\n",
              "      <td>0.163103</td>\n",
              "      <td>0.076708</td>\n",
              "      <td>0.698589</td>\n",
              "      <td>0.440439</td>\n",
              "      <td>0.00</td>\n",
              "      <td>0.195078</td>\n",
              "      <td>0.03</td>\n",
              "    </tr>\n",
              "  </tbody>\n",
              "</table>\n",
              "<p>5 rows × 123 columns</p>\n",
              "</div>"
            ],
            "text/plain": [
              "   population  householdsize  ...  PolicBudgPerPop  ViolentCrimesPerPop\n",
              "0        0.19           0.33  ...         0.140000                 0.20\n",
              "1        0.00           0.16  ...         0.195078                 0.67\n",
              "2        0.00           0.42  ...         0.195078                 0.43\n",
              "3        0.04           0.77  ...         0.195078                 0.12\n",
              "4        0.01           0.55  ...         0.195078                 0.03\n",
              "\n",
              "[5 rows x 123 columns]"
            ]
          },
          "metadata": {
            "tags": []
          },
          "execution_count": 3
        }
      ]
    },
    {
      "cell_type": "code",
      "metadata": {
        "id": "emM1KuNhlnsJ"
      },
      "source": [
        "X = df.drop(columns=['ViolentCrimesPerPop'])\n",
        "y = df['ViolentCrimesPerPop']"
      ],
      "execution_count": null,
      "outputs": []
    },
    {
      "cell_type": "code",
      "metadata": {
        "id": "0drWezbPlUWB"
      },
      "source": [
        "from sklearn.linear_model import LinearRegression\n",
        "\n",
        "lr = LinearRegression()\n",
        "\n",
        "lr.fit(X, y)\n",
        "\n",
        "y_pred = lr.predict(X)\n",
        "\n"
      ],
      "execution_count": null,
      "outputs": []
    },
    {
      "cell_type": "code",
      "metadata": {
        "id": "hnbT7QTblxTo"
      },
      "source": [
        "from sklearn.metrics import mean_squared_error, r2_score"
      ],
      "execution_count": null,
      "outputs": []
    },
    {
      "cell_type": "code",
      "metadata": {
        "id": "lxA7kr6il2Bw",
        "outputId": "1302c820-da55-4f34-802b-0d3493cfbbca",
        "colab": {
          "base_uri": "https://localhost:8080/",
          "height": 34
        }
      },
      "source": [
        "mean_squared_error(y, y_pred), r2_score(y, y_pred)"
      ],
      "execution_count": null,
      "outputs": [
        {
          "output_type": "execute_result",
          "data": {
            "text/plain": [
              "(0.01628404859086054, 0.6998594398258421)"
            ]
          },
          "metadata": {
            "tags": []
          },
          "execution_count": 7
        }
      ]
    },
    {
      "cell_type": "markdown",
      "metadata": {
        "id": "VJESDjYynEtU"
      },
      "source": [
        "Получили неплохие результаты, попробуем сравнить с результатами на отложенной (test/train) выборке"
      ]
    },
    {
      "cell_type": "code",
      "metadata": {
        "id": "f8l7cCzKl5QQ"
      },
      "source": [
        "from sklearn.model_selection import train_test_split\n",
        "\n",
        "X_train, X_test, y_train, y_test = train_test_split(X, y, test_size=0.25, random_state=42)"
      ],
      "execution_count": null,
      "outputs": []
    },
    {
      "cell_type": "code",
      "metadata": {
        "id": "K7-011HpmLKl",
        "outputId": "02a2d4d8-67d7-4f17-e6c9-b5fc93183eb1",
        "colab": {
          "base_uri": "https://localhost:8080/",
          "height": 34
        }
      },
      "source": [
        "lr = LinearRegression()\n",
        "lr.fit(X_train, y_train)\n"
      ],
      "execution_count": null,
      "outputs": [
        {
          "output_type": "execute_result",
          "data": {
            "text/plain": [
              "LinearRegression(copy_X=True, fit_intercept=True, n_jobs=None, normalize=False)"
            ]
          },
          "metadata": {
            "tags": []
          },
          "execution_count": 9
        }
      ]
    },
    {
      "cell_type": "code",
      "metadata": {
        "id": "PUwo_o-TmOxg",
        "outputId": "13494d14-c3e9-436c-e3cb-2d9d60139f84",
        "colab": {
          "base_uri": "https://localhost:8080/",
          "height": 50
        }
      },
      "source": [
        "y_train_pred = lr.predict(X_train)\n",
        "y_test_pred = lr.predict(X_test)\n",
        "\n",
        "print(\"Train MSE = \", mean_squared_error(y_train, y_train_pred), \"R2 = \", r2_score(y_train, y_train_pred))\n",
        "print(\"Test MSE = \", mean_squared_error(y_test, y_test_pred), \"R2 = \", r2_score(y_test, y_test_pred))\n"
      ],
      "execution_count": null,
      "outputs": [
        {
          "output_type": "stream",
          "text": [
            "Train MSE =  0.016359323496169555 R2 =  0.7077032946793707\n",
            "Test MSE =  2.490138802302624 R2 =  -50.21181514863974\n"
          ],
          "name": "stdout"
        }
      ]
    },
    {
      "cell_type": "code",
      "metadata": {
        "id": "Joir5XlDnq8V",
        "outputId": "7159ae9e-7986-4af8-8858-919e234d2fe6",
        "colab": {
          "base_uri": "https://localhost:8080/",
          "height": 50
        }
      },
      "source": [
        "from sklearn.model_selection import cross_val_score, KFold\n",
        "\n",
        "cross_val_score(LinearRegression(), X, y, cv = KFold(shuffle=True,  random_state=42))"
      ],
      "execution_count": null,
      "outputs": [
        {
          "output_type": "execute_result",
          "data": {
            "text/plain": [
              "array([-43.79936365,   0.66122234,   0.61753157,   0.67507942,\n",
              "         0.5872835 ])"
            ]
          },
          "metadata": {
            "tags": []
          },
          "execution_count": 11
        }
      ]
    },
    {
      "cell_type": "markdown",
      "metadata": {
        "id": "2OvwTtrJoWIJ"
      },
      "source": [
        "WTF IS GOING ON ? ? ?? ? ? ? ?? \n",
        "\n",
        "Давайте посмотрим на коофициенты линейной модели"
      ]
    },
    {
      "cell_type": "code",
      "metadata": {
        "id": "PMH2XqWNoLAC"
      },
      "source": [
        "# populartion, houseHoldSize, race, ..., PolicBudgPerPop\n",
        "# 2.52, 1.31, 1.95, ..., 1\n",
        "\n",
        "w = pd.DataFrame(np.array([X.columns, lr.coef_]).T, columns=['feature', 'w'])\n",
        "w_sorted = w.sort_values(by='w')\n",
        "\n"
      ],
      "execution_count": null,
      "outputs": []
    },
    {
      "cell_type": "code",
      "metadata": {
        "id": "s41-kF7mogxj",
        "outputId": "b8434a7c-b662-4eab-ec66-faecf8f79971",
        "colab": {
          "base_uri": "https://localhost:8080/",
          "height": 343
        }
      },
      "source": [
        "w_sorted.head(10)"
      ],
      "execution_count": null,
      "outputs": [
        {
          "output_type": "execute_result",
          "data": {
            "text/html": [
              "<div>\n",
              "<style scoped>\n",
              "    .dataframe tbody tr th:only-of-type {\n",
              "        vertical-align: middle;\n",
              "    }\n",
              "\n",
              "    .dataframe tbody tr th {\n",
              "        vertical-align: top;\n",
              "    }\n",
              "\n",
              "    .dataframe thead th {\n",
              "        text-align: right;\n",
              "    }\n",
              "</style>\n",
              "<table border=\"1\" class=\"dataframe\">\n",
              "  <thead>\n",
              "    <tr style=\"text-align: right;\">\n",
              "      <th></th>\n",
              "      <th>feature</th>\n",
              "      <th>w</th>\n",
              "    </tr>\n",
              "  </thead>\n",
              "  <tbody>\n",
              "    <tr>\n",
              "      <th>103</th>\n",
              "      <td>PolicPerPop</td>\n",
              "      <td>-3498.28</td>\n",
              "    </tr>\n",
              "    <tr>\n",
              "      <th>96</th>\n",
              "      <td>LemasSwornFT</td>\n",
              "      <td>-0.995402</td>\n",
              "    </tr>\n",
              "    <tr>\n",
              "      <th>41</th>\n",
              "      <td>TotalPctDiv</td>\n",
              "      <td>-0.849737</td>\n",
              "    </tr>\n",
              "    <tr>\n",
              "      <th>98</th>\n",
              "      <td>LemasSwFTFieldOps</td>\n",
              "      <td>-0.661463</td>\n",
              "    </tr>\n",
              "    <tr>\n",
              "      <th>10</th>\n",
              "      <td>numbUrban</td>\n",
              "      <td>-0.450291</td>\n",
              "    </tr>\n",
              "    <tr>\n",
              "      <th>67</th>\n",
              "      <td>PctPersOwnOccup</td>\n",
              "      <td>-0.430222</td>\n",
              "    </tr>\n",
              "    <tr>\n",
              "      <th>21</th>\n",
              "      <td>whitePerCap</td>\n",
              "      <td>-0.424546</td>\n",
              "    </tr>\n",
              "    <tr>\n",
              "      <th>121</th>\n",
              "      <td>PolicBudgPerPop</td>\n",
              "      <td>-0.369006</td>\n",
              "    </tr>\n",
              "    <tr>\n",
              "      <th>59</th>\n",
              "      <td>PctRecImmig10</td>\n",
              "      <td>-0.329229</td>\n",
              "    </tr>\n",
              "    <tr>\n",
              "      <th>65</th>\n",
              "      <td>PersPerOwnOccHous</td>\n",
              "      <td>-0.303043</td>\n",
              "    </tr>\n",
              "  </tbody>\n",
              "</table>\n",
              "</div>"
            ],
            "text/plain": [
              "               feature         w\n",
              "103        PolicPerPop  -3498.28\n",
              "96        LemasSwornFT -0.995402\n",
              "41         TotalPctDiv -0.849737\n",
              "98   LemasSwFTFieldOps -0.661463\n",
              "10           numbUrban -0.450291\n",
              "67     PctPersOwnOccup -0.430222\n",
              "21         whitePerCap -0.424546\n",
              "121    PolicBudgPerPop -0.369006\n",
              "59       PctRecImmig10 -0.329229\n",
              "65   PersPerOwnOccHous -0.303043"
            ]
          },
          "metadata": {
            "tags": []
          },
          "execution_count": 13
        }
      ]
    },
    {
      "cell_type": "code",
      "metadata": {
        "id": "dpxpcr-5orOY",
        "outputId": "d70fe728-9b42-4160-e585-601e73f90a38",
        "colab": {
          "base_uri": "https://localhost:8080/",
          "height": 343
        }
      },
      "source": [
        "w_sorted.tail(10)"
      ],
      "execution_count": null,
      "outputs": [
        {
          "output_type": "execute_result",
          "data": {
            "text/html": [
              "<div>\n",
              "<style scoped>\n",
              "    .dataframe tbody tr th:only-of-type {\n",
              "        vertical-align: middle;\n",
              "    }\n",
              "\n",
              "    .dataframe tbody tr th {\n",
              "        vertical-align: top;\n",
              "    }\n",
              "\n",
              "    .dataframe thead th {\n",
              "        text-align: right;\n",
              "    }\n",
              "</style>\n",
              "<table border=\"1\" class=\"dataframe\">\n",
              "  <thead>\n",
              "    <tr style=\"text-align: right;\">\n",
              "      <th></th>\n",
              "      <th>feature</th>\n",
              "      <th>w</th>\n",
              "    </tr>\n",
              "  </thead>\n",
              "  <tbody>\n",
              "    <tr>\n",
              "      <th>0</th>\n",
              "      <td>population</td>\n",
              "      <td>0.252187</td>\n",
              "    </tr>\n",
              "    <tr>\n",
              "      <th>102</th>\n",
              "      <td>PolicReqPerOffic</td>\n",
              "      <td>0.254372</td>\n",
              "    </tr>\n",
              "    <tr>\n",
              "      <th>85</th>\n",
              "      <td>MedRent</td>\n",
              "      <td>0.296184</td>\n",
              "    </tr>\n",
              "    <tr>\n",
              "      <th>19</th>\n",
              "      <td>medFamInc</td>\n",
              "      <td>0.320273</td>\n",
              "    </tr>\n",
              "    <tr>\n",
              "      <th>40</th>\n",
              "      <td>FemalePctDiv</td>\n",
              "      <td>0.333785</td>\n",
              "    </tr>\n",
              "    <tr>\n",
              "      <th>117</th>\n",
              "      <td>PolicOperBudg</td>\n",
              "      <td>0.401312</td>\n",
              "    </tr>\n",
              "    <tr>\n",
              "      <th>58</th>\n",
              "      <td>PctRecImmig8</td>\n",
              "      <td>0.462543</td>\n",
              "    </tr>\n",
              "    <tr>\n",
              "      <th>38</th>\n",
              "      <td>MalePctDivorce</td>\n",
              "      <td>0.581156</td>\n",
              "    </tr>\n",
              "    <tr>\n",
              "      <th>64</th>\n",
              "      <td>PersPerOccupHous</td>\n",
              "      <td>0.715068</td>\n",
              "    </tr>\n",
              "    <tr>\n",
              "      <th>97</th>\n",
              "      <td>LemasSwFTPerPop</td>\n",
              "      <td>3498.8</td>\n",
              "    </tr>\n",
              "  </tbody>\n",
              "</table>\n",
              "</div>"
            ],
            "text/plain": [
              "              feature         w\n",
              "0          population  0.252187\n",
              "102  PolicReqPerOffic  0.254372\n",
              "85            MedRent  0.296184\n",
              "19          medFamInc  0.320273\n",
              "40       FemalePctDiv  0.333785\n",
              "117     PolicOperBudg  0.401312\n",
              "58       PctRecImmig8  0.462543\n",
              "38     MalePctDivorce  0.581156\n",
              "64   PersPerOccupHous  0.715068\n",
              "97    LemasSwFTPerPop    3498.8"
            ]
          },
          "metadata": {
            "tags": []
          },
          "execution_count": 14
        }
      ]
    },
    {
      "cell_type": "markdown",
      "metadata": {
        "id": "pYlrHWzOq_EY"
      },
      "source": [
        "LemasSwFTPerPop\t3498.8\n",
        "\n",
        "PolicPerPop\t-3498.28"
      ]
    },
    {
      "cell_type": "code",
      "metadata": {
        "id": "LTC7OCc4q82s",
        "outputId": "16ddcaf0-f6ae-48b2-feda-be72af71bd90",
        "colab": {
          "base_uri": "https://localhost:8080/",
          "height": 34
        }
      },
      "source": [
        "X['LemasSwFTPerPop'].corr(X['PolicPerPop'])"
      ],
      "execution_count": null,
      "outputs": [
        {
          "output_type": "execute_result",
          "data": {
            "text/plain": [
              "0.9999938757673811"
            ]
          },
          "metadata": {
            "tags": []
          },
          "execution_count": 15
        }
      ]
    },
    {
      "cell_type": "code",
      "metadata": {
        "id": "Y3lKmkKHuqEX"
      },
      "source": [
        "X_fixed = X.drop(columns=['LemasSwFTPerPop'])"
      ],
      "execution_count": null,
      "outputs": []
    },
    {
      "cell_type": "code",
      "metadata": {
        "id": "TqKI5CN_vHMv",
        "outputId": "706dd172-6ddd-4c9e-ad4f-8e215afc870d",
        "colab": {
          "base_uri": "https://localhost:8080/",
          "height": 34
        }
      },
      "source": [
        "from sklearn.model_selection import cross_val_score, KFold\n",
        "\n",
        "cross_val_score(LinearRegression(), X_fixed, y, cv = KFold(shuffle=True,  random_state=42)).mean()"
      ],
      "execution_count": null,
      "outputs": [
        {
          "output_type": "execute_result",
          "data": {
            "text/plain": [
              "0.6332027476317412"
            ]
          },
          "metadata": {
            "tags": []
          },
          "execution_count": 17
        }
      ]
    },
    {
      "cell_type": "code",
      "metadata": {
        "id": "T1XjZ1lzvLeP",
        "outputId": "5912aecf-5653-4712-be8a-e941260c2475",
        "colab": {
          "base_uri": "https://localhost:8080/",
          "height": 34
        }
      },
      "source": [
        "X_train, X_test, y_train, y_test = train_test_split(X_fixed, y, test_size=0.25, random_state=42)\n",
        "lr = LinearRegression()\n",
        "lr.fit(X_train, y_train)\n"
      ],
      "execution_count": null,
      "outputs": [
        {
          "output_type": "execute_result",
          "data": {
            "text/plain": [
              "LinearRegression(copy_X=True, fit_intercept=True, n_jobs=None, normalize=False)"
            ]
          },
          "metadata": {
            "tags": []
          },
          "execution_count": 18
        }
      ]
    },
    {
      "cell_type": "code",
      "metadata": {
        "id": "reXmkWVovVIe",
        "outputId": "eea4b5dc-138d-4b83-a6eb-cb386600030a",
        "colab": {
          "base_uri": "https://localhost:8080/",
          "height": 50
        }
      },
      "source": [
        "y_train_pred = lr.predict(X_train)\n",
        "y_test_pred = lr.predict(X_test)\n",
        "\n",
        "print(\"Train MSE = \", mean_squared_error(y_train, y_train_pred), \"R2 = \", r2_score(y_train, y_train_pred))\n",
        "print(\"Test MSE = \", mean_squared_error(y_test, y_test_pred), \"R2 = \", r2_score(y_test, y_test_pred))\n"
      ],
      "execution_count": null,
      "outputs": [
        {
          "output_type": "stream",
          "text": [
            "Train MSE =  0.016496962952818123 R2 =  0.7052440511959883\n",
            "Test MSE =  0.017660143995183897 R2 =  0.636804169734067\n"
          ],
          "name": "stdout"
        }
      ]
    },
    {
      "cell_type": "code",
      "metadata": {
        "id": "-4Uj-hylvVpK",
        "outputId": "18944820-c987-4174-bdf6-6087b43a8239",
        "colab": {
          "base_uri": "https://localhost:8080/",
          "height": 386
        }
      },
      "source": [
        "import seaborn as sns\n",
        "sns.heatmap(X.corr())"
      ],
      "execution_count": null,
      "outputs": [
        {
          "output_type": "execute_result",
          "data": {
            "text/plain": [
              "<matplotlib.axes._subplots.AxesSubplot at 0x7fd878803080>"
            ]
          },
          "metadata": {
            "tags": []
          },
          "execution_count": 20
        },
        {
          "output_type": "display_data",
          "data": {
            "image/png": "[encoded data removed]",
            "text/plain": [
              "<Figure size 432x288 with 2 Axes>"
            ]
          },
          "metadata": {
            "tags": []
          }
        }
      ]
    },
    {
      "cell_type": "code",
      "metadata": {
        "id": "hspYQAyzvdXN"
      },
      "source": [
        "X_corr = X.corr()"
      ],
      "execution_count": null,
      "outputs": []
    },
    {
      "cell_type": "code",
      "metadata": {
        "id": "QDQF5fZpwNax",
        "outputId": "5d9f8e9d-0b72-478f-949e-60c2fec0977f",
        "colab": {
          "base_uri": "https://localhost:8080/",
          "height": 625
        }
      },
      "source": [
        "for i, row in X_corr.iterrows():\n",
        "  filtered = row[(row > 0.95) | (row < -0.95)]\n",
        "  filtered = filtered.drop(i)\n",
        "  if len(filtered) > 0:\n",
        "    print(i, \":\", filtered.index, filtered.values)\n"
      ],
      "execution_count": null,
      "outputs": [
        {
          "output_type": "stream",
          "text": [
            "population : Index(['numbUrban'], dtype='object') [0.99311243]\n",
            "numbUrban : Index(['population'], dtype='object') [0.99311243]\n",
            "medIncome : Index(['medFamInc'], dtype='object') [0.97761582]\n",
            "medFamInc : Index(['medIncome'], dtype='object') [0.97761582]\n",
            "perCapInc : Index(['whitePerCap'], dtype='object') [0.97024652]\n",
            "whitePerCap : Index(['perCapInc'], dtype='object') [0.97024652]\n",
            "PctBSorMore : Index(['PctOccupMgmtProf'], dtype='object') [0.95281908]\n",
            "PctOccupMgmtProf : Index(['PctBSorMore'], dtype='object') [0.95281908]\n",
            "MalePctDivorce : Index(['TotalPctDiv'], dtype='object') [0.97572552]\n",
            "FemalePctDiv : Index(['TotalPctDiv'], dtype='object') [0.9832168]\n",
            "TotalPctDiv : Index(['MalePctDivorce', 'FemalePctDiv'], dtype='object') [0.97572552 0.9832168 ]\n",
            "PctFam2Par : Index(['PctKids2Par'], dtype='object') [0.98535803]\n",
            "PctKids2Par : Index(['PctFam2Par'], dtype='object') [0.98535803]\n",
            "PctRecentImmig : Index(['PctRecImmig5', 'PctRecImmig8', 'PctRecImmig10'], dtype='object') [0.98899854 0.97796421 0.96645985]\n",
            "PctRecImmig5 : Index(['PctRecentImmig', 'PctRecImmig8', 'PctRecImmig10'], dtype='object') [0.98899854 0.99343318 0.9856157 ]\n",
            "PctRecImmig8 : Index(['PctRecentImmig', 'PctRecImmig5', 'PctRecImmig10'], dtype='object') [0.97796421 0.99343318 0.99552542]\n",
            "PctRecImmig10 : Index(['PctRecentImmig', 'PctRecImmig5', 'PctRecImmig8', 'PctForeignBorn'], dtype='object') [0.96645985 0.9856157  0.99552542 0.95522856]\n",
            "PctLargHouseFam : Index(['PctLargHouseOccup'], dtype='object') [0.9844026]\n",
            "PctLargHouseOccup : Index(['PctLargHouseFam'], dtype='object') [0.9844026]\n",
            "PctPersOwnOccup : Index(['PctHousOwnOcc'], dtype='object') [0.98189852]\n",
            "PctHousOwnOcc : Index(['PctPersOwnOccup'], dtype='object') [0.98189852]\n",
            "OwnOccLowQuart : Index(['OwnOccMedVal', 'OwnOccHiQuart'], dtype='object') [0.99448132 0.9762368 ]\n",
            "OwnOccMedVal : Index(['OwnOccLowQuart', 'OwnOccHiQuart'], dtype='object') [0.99448132 0.99130249]\n",
            "OwnOccHiQuart : Index(['OwnOccLowQuart', 'OwnOccMedVal'], dtype='object') [0.9762368  0.99130249]\n",
            "RentLowQ : Index(['RentMedian'], dtype='object') [0.9643363]\n",
            "RentMedian : Index(['RentLowQ', 'RentHighQ', 'MedRent'], dtype='object') [0.9643363  0.9818294  0.98858504]\n",
            "RentHighQ : Index(['RentMedian', 'MedRent'], dtype='object') [0.9818294  0.97717986]\n",
            "MedRent : Index(['RentMedian', 'RentHighQ'], dtype='object') [0.98858504 0.97717986]\n",
            "PctForeignBorn : Index(['PctRecImmig10'], dtype='object') [0.95522856]\n",
            "LemasSwornFT : Index(['LemasSwFTFieldOps', 'PolicOperBudg'], dtype='object') [-0.99082745  0.96213178]\n",
            "LemasSwFTPerPop : Index(['LemasSwFTFieldPerPop', 'PolicPerPop'], dtype='object') [0.96538975 0.99999388]\n",
            "LemasSwFTFieldOps : Index(['LemasSwornFT'], dtype='object') [-0.99082745]\n",
            "LemasSwFTFieldPerPop : Index(['LemasSwFTPerPop', 'PolicPerPop'], dtype='object') [0.96538975 0.96523817]\n",
            "PolicPerPop : Index(['LemasSwFTPerPop', 'LemasSwFTFieldPerPop'], dtype='object') [0.99999388 0.96523817]\n",
            "PolicOperBudg : Index(['LemasSwornFT'], dtype='object') [0.96213178]\n"
          ],
          "name": "stdout"
        }
      ]
    },
    {
      "cell_type": "code",
      "metadata": {
        "id": "tMmUC6T3wYpx"
      },
      "source": [
        "X_fixed_again = X.drop(columns=['numbUrban', 'medFamInc', 'whitePerCap', 'PctBSorMore', 'TotalPctDiv', 'PctFam2Par', 'PctRecImmig5', 'PctRecImmig8', 'PctRecImmig10', 'PctLargHouseFam', 'OwnOccMedVal', 'RentMedian', 'LemasSwFTPerPop', 'LemasSwFTFieldOps', 'LemasSwFTFieldPerPop', 'PolicOperBudg'])"
      ],
      "execution_count": null,
      "outputs": []
    },
    {
      "cell_type": "code",
      "metadata": {
        "id": "QAh1aQGuyvPX",
        "outputId": "86d89c3f-9b42-482a-9fbb-e80afe2755cb",
        "colab": {
          "base_uri": "https://localhost:8080/",
          "height": 34
        }
      },
      "source": [
        "cross_val_score(LinearRegression(), X_fixed_again, y).mean()"
      ],
      "execution_count": null,
      "outputs": [
        {
          "output_type": "execute_result",
          "data": {
            "text/plain": [
              "0.6460639499338889"
            ]
          },
          "metadata": {
            "tags": []
          },
          "execution_count": 24
        }
      ]
    },
    {
      "cell_type": "code",
      "metadata": {
        "id": "nZHJQLPOyzZO"
      },
      "source": [
        "from sklearn.feature_selection import VarianceThreshold"
      ],
      "execution_count": null,
      "outputs": []
    },
    {
      "cell_type": "code",
      "metadata": {
        "id": "18dEJ8kCzJP2",
        "outputId": "f90ba8d9-9b5f-4a4a-9060-f2c4bf078d2c",
        "colab": {
          "base_uri": "https://localhost:8080/",
          "height": 34
        }
      },
      "source": [
        "vts = VarianceThreshold(0.01)\n",
        "X_var_trash = vts.fit_transform(X)\n",
        "X_var_trash.shape, X.shape"
      ],
      "execution_count": null,
      "outputs": [
        {
          "output_type": "execute_result",
          "data": {
            "text/plain": [
              "((1994, 100), (1994, 122))"
            ]
          },
          "metadata": {
            "tags": []
          },
          "execution_count": 26
        }
      ]
    },
    {
      "cell_type": "code",
      "metadata": {
        "id": "alfg5Cmfzax9"
      },
      "source": [
        "from sklearn.linear_model import Lasso"
      ],
      "execution_count": null,
      "outputs": []
    },
    {
      "cell_type": "code",
      "metadata": {
        "id": "Veab_U6J1MqY"
      },
      "source": [
        "lasso = Lasso(alpha=0.0001)"
      ],
      "execution_count": null,
      "outputs": []
    },
    {
      "cell_type": "code",
      "metadata": {
        "id": "41Lp1Iol1PMR",
        "outputId": "ecd3be2c-bdd6-4637-9d8e-2ce6baa3c747",
        "colab": {
          "base_uri": "https://localhost:8080/",
          "height": 437
        }
      },
      "source": [
        "lasso.fit(X, y)\n",
        "lasso.coef_"
      ],
      "execution_count": null,
      "outputs": [
        {
          "output_type": "execute_result",
          "data": {
            "text/plain": [
              "array([-0.        ,  0.        ,  0.17455106, -0.03313473, -0.01037338,\n",
              "        0.04347053,  0.        , -0.16770628,  0.        ,  0.00598423,\n",
              "       -0.00973308,  0.03640668,  0.        , -0.12314892,  0.02836895,\n",
              "       -0.12025922,  0.04229727,  0.        , -0.08512479,  0.01131154,\n",
              "        0.        , -0.08266289, -0.0184041 , -0.02731627,  0.02650322,\n",
              "        0.04009094,  0.02384065, -0.        , -0.1368626 , -0.03922306,\n",
              "        0.        ,  0.02023364, -0.00983259,  0.09950837, -0.03359575,\n",
              "        0.        ,  0.01529342,  0.        ,  0.12499242,  0.121065  ,\n",
              "       -0.0675251 , -0.        ,  0.        , -0.        , -0.25842138,\n",
              "       -0.0421956 , -0.        ,  0.        , -0.11118202, -0.03534314,\n",
              "        0.159035  , -0.10091204,  0.00175706, -0.        , -0.        ,\n",
              "        0.        ,  0.        ,  0.        ,  0.01986457,  0.        ,\n",
              "       -0.        , -0.07444192, -0.06053392, -0.        ,  0.10485828,\n",
              "       -0.0112153 , -0.00272418, -0.04304428,  0.13137008,  0.04079468,\n",
              "        0.00507863,  0.11605113, -0.05872094, -0.        ,  0.04805816,\n",
              "       -0.05347328, -0.00463742,  0.01632867, -0.0029339 , -0.01290036,\n",
              "       -0.        ,  0.        , -0.19520135,  0.        ,  0.        ,\n",
              "        0.19583771,  0.05052935, -0.03128639, -0.08003549,  0.0732591 ,\n",
              "        0.16132142,  0.07720836, -0.        , -0.        ,  0.02557741,\n",
              "        0.        , -0.        ,  0.        ,  0.        ,  0.        ,\n",
              "       -0.01014655,  0.01581624,  0.06105264,  0.        , -0.04274016,\n",
              "       -0.02974139, -0.        ,  0.        ,  0.0365877 ,  0.        ,\n",
              "       -0.00348482, -0.        , -0.01280075,  0.00559824, -0.        ,\n",
              "       -0.02674295,  0.        , -0.        ,  0.        ,  0.03070295,\n",
              "        0.02509887, -0.        ])"
            ]
          },
          "metadata": {
            "tags": []
          },
          "execution_count": 30
        }
      ]
    },
    {
      "cell_type": "code",
      "metadata": {
        "id": "qFXAfbOP1btT",
        "outputId": "0d950a7b-8f8f-4032-b4a8-8438b2c8000f",
        "colab": {
          "base_uri": "https://localhost:8080/",
          "height": 34
        }
      },
      "source": [
        "cross_val_score(Lasso(alpha=0.0001), X, y).mean()"
      ],
      "execution_count": null,
      "outputs": [
        {
          "output_type": "execute_result",
          "data": {
            "text/plain": [
              "0.6544824432966206"
            ]
          },
          "metadata": {
            "tags": []
          },
          "execution_count": 31
        }
      ]
    },
    {
      "cell_type": "code",
      "metadata": {
        "id": "HQaHVBQH1dBZ"
      },
      "source": [
        "from sklearn.feature_selection import SelectFromModel"
      ],
      "execution_count": null,
      "outputs": []
    },
    {
      "cell_type": "code",
      "metadata": {
        "id": "htI0-nby2V7X"
      },
      "source": [
        "selector = SelectFromModel(Lasso(alpha=0.0005), threshold=0.0000001)"
      ],
      "execution_count": null,
      "outputs": []
    },
    {
      "cell_type": "code",
      "metadata": {
        "id": "C3_UHUz82pQT"
      },
      "source": [
        "X_lasso = selector.fit_transform(X, y)"
      ],
      "execution_count": null,
      "outputs": []
    },
    {
      "cell_type": "code",
      "metadata": {
        "id": "VyEBTS2Q2rj_",
        "outputId": "35d4b7a9-0332-4f21-d8dc-53f97bafb1a1",
        "colab": {
          "base_uri": "https://localhost:8080/",
          "height": 34
        }
      },
      "source": [
        "X_lasso.shape, X.shape"
      ],
      "execution_count": null,
      "outputs": [
        {
          "output_type": "execute_result",
          "data": {
            "text/plain": [
              "((1994, 32), (1994, 122))"
            ]
          },
          "metadata": {
            "tags": []
          },
          "execution_count": 68
        }
      ]
    },
    {
      "cell_type": "code",
      "metadata": {
        "id": "d9Ljsoal2uLb"
      },
      "source": [
        "from sklearn.linear_model import Ridge"
      ],
      "execution_count": null,
      "outputs": []
    },
    {
      "cell_type": "code",
      "metadata": {
        "id": "zRYn20Ep2vXZ",
        "outputId": "fde5b8d5-008e-48fb-a024-a2b0007ba889",
        "colab": {
          "base_uri": "https://localhost:8080/",
          "height": 34
        }
      },
      "source": [
        "r = Ridge()\n",
        "cross_val_score(Ridge(10), X_lasso, y).mean()"
      ],
      "execution_count": null,
      "outputs": [
        {
          "output_type": "execute_result",
          "data": {
            "text/plain": [
              "0.6599432179214322"
            ]
          },
          "metadata": {
            "tags": []
          },
          "execution_count": 70
        }
      ]
    },
    {
      "cell_type": "markdown",
      "metadata": {
        "id": "32AgtdQNpSrC"
      },
      "source": [
        "Задача: перебрать alpha-параметр для Ridge-регрессии"
      ]
    },
    {
      "cell_type": "code",
      "metadata": {
        "id": "AkqbpBTxpaKA",
        "outputId": "0e37402e-4f2e-4f01-99ad-c85545debd81",
        "colab": {
          "base_uri": "https://localhost:8080/",
          "height": 269
        }
      },
      "source": [
        "from sklearn.model_selection import GridSearchCV\n",
        "\n",
        "params = {'alpha': np.arange(1, 10, 0.1), 'normalize': [False, True]}\n",
        "\n",
        "\n",
        "gcv = GridSearchCV(Ridge(), params, n_jobs=-1)\n",
        "\n",
        "gcv.fit(X_lasso, y)\n",
        "\n"
      ],
      "execution_count": null,
      "outputs": [
        {
          "output_type": "execute_result",
          "data": {
            "text/plain": [
              "GridSearchCV(cv=None, error_score=nan,\n",
              "             estimator=Ridge(alpha=1.0, copy_X=True, fit_intercept=True,\n",
              "                             max_iter=None, normalize=False, random_state=None,\n",
              "                             solver='auto', tol=0.001),\n",
              "             iid='deprecated', n_jobs=-1,\n",
              "             param_grid={'alpha': array([1. , 1.1, 1.2, 1.3, 1.4, 1.5, 1.6, 1.7, 1.8, 1.9, 2. , 2.1, 2.2,\n",
              "       2.3, 2.4, 2.5, 2.6, 2.7, 2.8, 2.9, 3. , 3.1, 3.2, 3.3, 3.4, 3.5,\n",
              "       3.6, 3.7, 3.8, 3.9, 4. , 4.1, 4.2, 4.3, 4.4, 4.5, 4.6, 4.7, 4.8,\n",
              "       4.9, 5. , 5.1, 5.2, 5.3, 5.4, 5.5, 5.6, 5.7, 5.8, 5.9, 6. , 6.1,\n",
              "       6.2, 6.3, 6.4, 6.5, 6.6, 6.7, 6.8, 6.9, 7. , 7.1, 7.2, 7.3, 7.4,\n",
              "       7.5, 7.6, 7.7, 7.8, 7.9, 8. , 8.1, 8.2, 8.3, 8.4, 8.5, 8.6, 8.7,\n",
              "       8.8, 8.9, 9. , 9.1, 9.2, 9.3, 9.4, 9.5, 9.6, 9.7, 9.8, 9.9]),\n",
              "                         'normalize': [False, True]},\n",
              "             pre_dispatch='2*n_jobs', refit=True, return_train_score=False,\n",
              "             scoring=None, verbose=0)"
            ]
          },
          "metadata": {
            "tags": []
          },
          "execution_count": 73
        }
      ]
    },
    {
      "cell_type": "code",
      "metadata": {
        "id": "N3UICXSAqb6p",
        "outputId": "038efb8b-74c8-484a-f5c1-cdec42d536d0",
        "colab": {
          "base_uri": "https://localhost:8080/",
          "height": 34
        }
      },
      "source": [
        "gcv.best_score_, gcv.best_params_"
      ],
      "execution_count": null,
      "outputs": [
        {
          "output_type": "execute_result",
          "data": {
            "text/plain": [
              "(0.6603300638726465, {'alpha': 5.5000000000000036, 'normalize': False})"
            ]
          },
          "metadata": {
            "tags": []
          },
          "execution_count": 74
        }
      ]
    },
    {
      "cell_type": "markdown",
      "metadata": {
        "id": "xENF8Yvut3nh"
      },
      "source": [
        "Pipeline - последовательность шагов: Данные поступают в первый элемент списка, после этого выполняется fit, transform/predict и передаются на вход следующему шагу"
      ]
    },
    {
      "cell_type": "code",
      "metadata": {
        "id": "uJjnUALPs7Q0"
      },
      "source": [
        "from sklearn.pipeline import Pipeline\n",
        "\n",
        "pipe = Pipeline([\n",
        "                 ('selector', SelectFromModel(Lasso(0.00001))), \n",
        "                 ('regression', Ridge(2.0))\n",
        "                 ])\n"
      ],
      "execution_count": null,
      "outputs": []
    },
    {
      "cell_type": "code",
      "metadata": {
        "id": "wV2HuMLFti5F",
        "outputId": "a724e550-1c32-4f79-c711-4d2fd05ad882",
        "colab": {
          "base_uri": "https://localhost:8080/",
          "height": 222
        }
      },
      "source": [
        "cross_val_score(pipe, X, y).mean()"
      ],
      "execution_count": null,
      "outputs": [
        {
          "output_type": "stream",
          "text": [
            "/usr/local/lib/python3.6/dist-packages/sklearn/linear_model/_coordinate_descent.py:476: ConvergenceWarning: Objective did not converge. You might want to increase the number of iterations. Duality gap: 0.07024482547138788, tolerance: 0.008730651373040748\n",
            "  positive)\n",
            "/usr/local/lib/python3.6/dist-packages/sklearn/linear_model/_coordinate_descent.py:476: ConvergenceWarning: Objective did not converge. You might want to increase the number of iterations. Duality gap: 1.6658196487069876, tolerance: 0.008256076589341695\n",
            "  positive)\n",
            "/usr/local/lib/python3.6/dist-packages/sklearn/linear_model/_coordinate_descent.py:476: ConvergenceWarning: Objective did not converge. You might want to increase the number of iterations. Duality gap: 0.5474745797504035, tolerance: 0.008517425554858937\n",
            "  positive)\n",
            "/usr/local/lib/python3.6/dist-packages/sklearn/linear_model/_coordinate_descent.py:476: ConvergenceWarning: Objective did not converge. You might want to increase the number of iterations. Duality gap: 0.06093062179243347, tolerance: 0.008860422319749216\n",
            "  positive)\n",
            "/usr/local/lib/python3.6/dist-packages/sklearn/linear_model/_coordinate_descent.py:476: ConvergenceWarning: Objective did not converge. You might want to increase the number of iterations. Duality gap: 0.8197367023584796, tolerance: 0.008902159824561405\n",
            "  positive)\n"
          ],
          "name": "stderr"
        },
        {
          "output_type": "execute_result",
          "data": {
            "text/plain": [
              "0.6556716648070328"
            ]
          },
          "metadata": {
            "tags": []
          },
          "execution_count": 86
        }
      ]
    },
    {
      "cell_type": "code",
      "metadata": {
        "id": "BBTZovXwuZ4C"
      },
      "source": [
        "params = {\n",
        "    'selector__estimator__alpha': np.arange(0, 0.1, 0.001),\n",
        "    'regression__alpha': np.arange(1, 10, 0.1),\n",
        "\n",
        "}"
      ],
      "execution_count": null,
      "outputs": []
    },
    {
      "cell_type": "code",
      "metadata": {
        "id": "i9DAm9oavG1I",
        "outputId": "f31b1fac-8018-4cd5-a332-2433039687c3",
        "colab": {
          "base_uri": "https://localhost:8080/",
          "height": 1000
        }
      },
      "source": [
        "from sklearn.model_selection import GridSearchCV\n",
        "\n",
        "\n",
        "gcv = GridSearchCV(pipe, params, n_jobs=-1, verbose=10)\n",
        "\n",
        "gcv.fit(X, y)\n",
        "\n"
      ],
      "execution_count": null,
      "outputs": [
        {
          "output_type": "stream",
          "text": [
            "Fitting 5 folds for each of 9000 candidates, totalling 45000 fits\n"
          ],
          "name": "stdout"
        },
        {
          "output_type": "stream",
          "text": [
            "[Parallel(n_jobs=-1)]: Using backend LokyBackend with 2 concurrent workers.\n",
            "[Parallel(n_jobs=-1)]: Done   1 tasks      | elapsed:    1.6s\n",
            "[Parallel(n_jobs=-1)]: Done   4 tasks      | elapsed:    2.0s\n",
            "[Parallel(n_jobs=-1)]: Done   9 tasks      | elapsed:    2.2s\n",
            "[Parallel(n_jobs=-1)]: Done  14 tasks      | elapsed:    2.3s\n",
            "[Parallel(n_jobs=-1)]: Batch computation too fast (0.1760s.) Setting batch_size=2.\n",
            "[Parallel(n_jobs=-1)]: Done  21 tasks      | elapsed:    2.4s\n",
            "[Parallel(n_jobs=-1)]: Batch computation too fast (0.0915s.) Setting batch_size=4.\n",
            "[Parallel(n_jobs=-1)]: Batch computation too fast (0.1396s.) Setting batch_size=8.\n",
            "[Parallel(n_jobs=-1)]: Done  38 tasks      | elapsed:    2.7s\n",
            "[Parallel(n_jobs=-1)]: Done 102 tasks      | elapsed:    3.4s\n",
            "[Parallel(n_jobs=-1)]: Done 174 tasks      | elapsed:    4.1s\n",
            "[Parallel(n_jobs=-1)]: Done 262 tasks      | elapsed:    4.8s\n",
            "[Parallel(n_jobs=-1)]: Done 350 tasks      | elapsed:    5.4s\n",
            "[Parallel(n_jobs=-1)]: Done 454 tasks      | elapsed:    6.2s\n",
            "[Parallel(n_jobs=-1)]: Done 558 tasks      | elapsed:    8.0s\n",
            "[Parallel(n_jobs=-1)]: Done 678 tasks      | elapsed:    9.1s\n",
            "[Parallel(n_jobs=-1)]: Done 798 tasks      | elapsed:   10.1s\n",
            "[Parallel(n_jobs=-1)]: Done 934 tasks      | elapsed:   11.0s\n",
            "[Parallel(n_jobs=-1)]: Done 1070 tasks      | elapsed:   13.0s\n",
            "[Parallel(n_jobs=-1)]: Done 1222 tasks      | elapsed:   14.4s\n",
            "[Parallel(n_jobs=-1)]: Done 1374 tasks      | elapsed:   15.4s\n",
            "[Parallel(n_jobs=-1)]: Batch computation too fast (0.1967s.) Setting batch_size=16.\n",
            "[Parallel(n_jobs=-1)]: Done 1582 tasks      | elapsed:   18.1s\n",
            "[Parallel(n_jobs=-1)]: Done 1918 tasks      | elapsed:   20.6s\n",
            "[Parallel(n_jobs=-1)]: Done 2286 tasks      | elapsed:   24.4s\n",
            "[Parallel(n_jobs=-1)]: Done 2654 tasks      | elapsed:   28.3s\n",
            "[Parallel(n_jobs=-1)]: Done 3054 tasks      | elapsed:   31.9s\n",
            "[Parallel(n_jobs=-1)]: Done 3454 tasks      | elapsed:   35.0s\n",
            "[Parallel(n_jobs=-1)]: Done 3886 tasks      | elapsed:   39.3s\n",
            "[Parallel(n_jobs=-1)]: Done 4318 tasks      | elapsed:   43.6s\n",
            "[Parallel(n_jobs=-1)]: Done 4782 tasks      | elapsed:   48.0s\n",
            "[Parallel(n_jobs=-1)]: Done 5246 tasks      | elapsed:   52.3s\n",
            "[Parallel(n_jobs=-1)]: Done 5742 tasks      | elapsed:   57.2s\n",
            "[Parallel(n_jobs=-1)]: Done 6238 tasks      | elapsed:  1.0min\n",
            "[Parallel(n_jobs=-1)]: Done 6766 tasks      | elapsed:  1.1min\n",
            "[Parallel(n_jobs=-1)]: Done 7294 tasks      | elapsed:  1.2min\n",
            "[Parallel(n_jobs=-1)]: Done 7854 tasks      | elapsed:  1.3min\n",
            "[Parallel(n_jobs=-1)]: Done 8414 tasks      | elapsed:  1.4min\n",
            "[Parallel(n_jobs=-1)]: Done 9006 tasks      | elapsed:  1.5min\n",
            "[Parallel(n_jobs=-1)]: Done 9598 tasks      | elapsed:  1.6min\n",
            "[Parallel(n_jobs=-1)]: Done 10222 tasks      | elapsed:  1.7min\n",
            "[Parallel(n_jobs=-1)]: Done 10846 tasks      | elapsed:  1.8min\n",
            "[Parallel(n_jobs=-1)]: Done 11502 tasks      | elapsed:  1.9min\n",
            "[Parallel(n_jobs=-1)]: Done 12158 tasks      | elapsed:  2.0min\n",
            "[Parallel(n_jobs=-1)]: Done 12846 tasks      | elapsed:  2.1min\n",
            "[Parallel(n_jobs=-1)]: Done 13534 tasks      | elapsed:  2.2min\n",
            "[Parallel(n_jobs=-1)]: Done 14254 tasks      | elapsed:  2.3min\n",
            "[Parallel(n_jobs=-1)]: Done 14974 tasks      | elapsed:  2.4min\n",
            "[Parallel(n_jobs=-1)]: Done 15726 tasks      | elapsed:  2.6min\n",
            "[Parallel(n_jobs=-1)]: Done 16478 tasks      | elapsed:  2.7min\n",
            "[Parallel(n_jobs=-1)]: Done 17262 tasks      | elapsed:  2.8min\n",
            "[Parallel(n_jobs=-1)]: Done 18046 tasks      | elapsed:  3.0min\n",
            "[Parallel(n_jobs=-1)]: Done 18862 tasks      | elapsed:  3.1min\n",
            "[Parallel(n_jobs=-1)]: Done 19678 tasks      | elapsed:  3.2min\n",
            "[Parallel(n_jobs=-1)]: Done 20526 tasks      | elapsed:  3.3min\n",
            "[Parallel(n_jobs=-1)]: Done 21374 tasks      | elapsed:  3.5min\n",
            "[Parallel(n_jobs=-1)]: Done 22254 tasks      | elapsed:  3.6min\n",
            "[Parallel(n_jobs=-1)]: Done 23134 tasks      | elapsed:  3.8min\n",
            "[Parallel(n_jobs=-1)]: Done 24046 tasks      | elapsed:  3.9min\n",
            "[Parallel(n_jobs=-1)]: Done 24958 tasks      | elapsed:  4.1min\n",
            "[Parallel(n_jobs=-1)]: Done 25902 tasks      | elapsed:  4.2min\n",
            "[Parallel(n_jobs=-1)]: Done 26846 tasks      | elapsed:  4.4min\n",
            "[Parallel(n_jobs=-1)]: Done 27822 tasks      | elapsed:  4.5min\n",
            "[Parallel(n_jobs=-1)]: Done 28798 tasks      | elapsed:  4.7min\n",
            "[Parallel(n_jobs=-1)]: Done 29806 tasks      | elapsed:  4.8min\n",
            "[Parallel(n_jobs=-1)]: Done 30814 tasks      | elapsed:  5.0min\n",
            "[Parallel(n_jobs=-1)]: Done 31854 tasks      | elapsed:  5.2min\n",
            "[Parallel(n_jobs=-1)]: Done 32894 tasks      | elapsed:  5.3min\n",
            "[Parallel(n_jobs=-1)]: Done 33966 tasks      | elapsed:  5.5min\n",
            "[Parallel(n_jobs=-1)]: Done 35038 tasks      | elapsed:  5.7min\n",
            "[Parallel(n_jobs=-1)]: Done 36142 tasks      | elapsed:  5.9min\n",
            "[Parallel(n_jobs=-1)]: Done 37246 tasks      | elapsed:  6.1min\n",
            "[Parallel(n_jobs=-1)]: Done 38382 tasks      | elapsed:  6.2min\n",
            "[Parallel(n_jobs=-1)]: Done 39518 tasks      | elapsed:  6.4min\n",
            "[Parallel(n_jobs=-1)]: Done 40686 tasks      | elapsed:  6.6min\n",
            "[Parallel(n_jobs=-1)]: Done 41854 tasks      | elapsed:  6.8min\n",
            "[Parallel(n_jobs=-1)]: Done 43054 tasks      | elapsed:  7.0min\n",
            "[Parallel(n_jobs=-1)]: Done 44254 tasks      | elapsed:  7.2min\n",
            "[Parallel(n_jobs=-1)]: Done 45000 out of 45000 | elapsed:  7.3min finished\n",
            "/usr/local/lib/python3.6/dist-packages/sklearn/feature_selection/_from_model.py:222: UserWarning: With alpha=0, this algorithm does not converge well. You are advised to use the LinearRegression estimator\n",
            "  self.estimator_.fit(X, y, **fit_params)\n",
            "/usr/local/lib/python3.6/dist-packages/sklearn/linear_model/_coordinate_descent.py:476: UserWarning: Coordinate descent with no regularization may lead to unexpected results and is discouraged.\n",
            "  positive)\n",
            "/usr/local/lib/python3.6/dist-packages/sklearn/linear_model/_coordinate_descent.py:476: ConvergenceWarning: Objective did not converge. You might want to increase the number of iterations. Duality gap: 16.256010419377713, tolerance: 0.010818395511534601\n",
            "  positive)\n"
          ],
          "name": "stderr"
        },
        {
          "output_type": "execute_result",
          "data": {
            "text/plain": [
              "GridSearchCV(cv=None, error_score=nan,\n",
              "             estimator=Pipeline(memory=None,\n",
              "                                steps=[('selector',\n",
              "                                        SelectFromModel(estimator=Lasso(alpha=1e-05,\n",
              "                                                                        copy_X=True,\n",
              "                                                                        fit_intercept=True,\n",
              "                                                                        max_iter=1000,\n",
              "                                                                        normalize=False,\n",
              "                                                                        positive=False,\n",
              "                                                                        precompute=False,\n",
              "                                                                        random_state=None,\n",
              "                                                                        selection='cyclic',\n",
              "                                                                        tol=0.0001,\n",
              "                                                                        warm_start=False),\n",
              "                                                        max_features=None,\n",
              "                                                        norm_order=1,\n",
              "                                                        prefit=False,\n",
              "                                                        threshold=None))...\n",
              "       0.054, 0.055, 0.056, 0.057, 0.058, 0.059, 0.06 , 0.061, 0.062,\n",
              "       0.063, 0.064, 0.065, 0.066, 0.067, 0.068, 0.069, 0.07 , 0.071,\n",
              "       0.072, 0.073, 0.074, 0.075, 0.076, 0.077, 0.078, 0.079, 0.08 ,\n",
              "       0.081, 0.082, 0.083, 0.084, 0.085, 0.086, 0.087, 0.088, 0.089,\n",
              "       0.09 , 0.091, 0.092, 0.093, 0.094, 0.095, 0.096, 0.097, 0.098,\n",
              "       0.099])},\n",
              "             pre_dispatch='2*n_jobs', refit=True, return_train_score=False,\n",
              "             scoring=None, verbose=10)"
            ]
          },
          "metadata": {
            "tags": []
          },
          "execution_count": 90
        }
      ]
    },
    {
      "cell_type": "code",
      "metadata": {
        "id": "423SV61x25X8",
        "outputId": "71870823-f61b-4edf-89bb-c04b9e793795",
        "colab": {
          "base_uri": "https://localhost:8080/",
          "height": 50
        }
      },
      "source": [
        "gcv.best_score_, gcv.best_params_"
      ],
      "execution_count": null,
      "outputs": [
        {
          "output_type": "execute_result",
          "data": {
            "text/plain": [
              "(0.6556066620713548,\n",
              " {'regression__alpha': 2.5000000000000013, 'selector__estimator__alpha': 0.0})"
            ]
          },
          "metadata": {
            "tags": []
          },
          "execution_count": 92
        }
      ]
    },
    {
      "cell_type": "code",
      "metadata": {
        "id": "RST8KPUT3cMk"
      },
      "source": [
        ""
      ],
      "execution_count": null,
      "outputs": []
    }
  ]
}