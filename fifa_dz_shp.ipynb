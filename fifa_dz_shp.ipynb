{
  "nbformat": 4,
  "nbformat_minor": 0,
  "metadata": {
    "colab": {
      "name": "fifa_dz_shp.ipynb",
      "provenance": [],
      "collapsed_sections": [],
      "include_colab_link": true
    },
    "kernelspec": {
      "name": "python3",
      "display_name": "Python 3"
    }
  },
  "cells": [
    {
      "cell_type": "markdown",
      "metadata": {
        "id": "view-in-github",
        "colab_type": "text"
      },
      "source": [
        "<a href=\"https://colab.research.google.com/github/AnnaKraim/ML/blob/main/fifa_dz_shp.ipynb\" target=\"_parent\"><img src=\"https://colab.research.google.com/assets/colab-badge.svg\" alt=\"Open In Colab\"/></a>"
      ]
    },
    {
      "cell_type": "code",
      "metadata": {
        "id": "b-Hd0rEFWv1e",
        "outputId": "3c949bf9-45e1-46d1-bfbf-d1e50830e41a",
        "colab": {
          "base_uri": "https://localhost:8080/",
          "height": 1000
        }
      },
      "source": [
        "import pandas as pd\n",
        "import json\n",
        "with open('fifa_data.json','r') as f:\n",
        "  data = json.loads(f.read())\n",
        "df = pd.DataFrame(data['matches'])\n",
        "df.head()\n",
        "df.iloc[1]['home_team_statistics']\n"
      ],
      "execution_count": null,
      "outputs": [
        {
          "output_type": "execute_result",
          "data": {
            "text/plain": [
              "{'attempts_on_goal': 8,\n",
              " 'ball_possession': 43,\n",
              " 'balls_recovered': 57,\n",
              " 'blocked': 2,\n",
              " 'clearances': 32,\n",
              " 'corners': 0,\n",
              " 'country': 'Egypt',\n",
              " 'distance_covered': 112,\n",
              " 'fouls_committed': 12,\n",
              " 'num_passes': 395,\n",
              " 'off_target': 3,\n",
              " 'offsides': 1,\n",
              " 'on_target': 3,\n",
              " 'pass_accuracy': 78,\n",
              " 'passes_completed': 308,\n",
              " 'red_cards': 0,\n",
              " 'starting_eleven': [{'captain': False,\n",
              "   'name': 'MOHAMED ELSHENAWY',\n",
              "   'position': 'Goalie',\n",
              "   'shirt_number': 23},\n",
              "  {'captain': False,\n",
              "   'name': 'ALI GABR',\n",
              "   'position': 'Defender',\n",
              "   'shirt_number': 2},\n",
              "  {'captain': False,\n",
              "   'name': 'AHMED HEGAZY',\n",
              "   'position': 'Defender',\n",
              "   'shirt_number': 6},\n",
              "  {'captain': True,\n",
              "   'name': 'AHMED FATHI',\n",
              "   'position': 'Defender',\n",
              "   'shirt_number': 7},\n",
              "  {'captain': False,\n",
              "   'name': 'TAREK HAMED',\n",
              "   'position': 'Midfield',\n",
              "   'shirt_number': 8},\n",
              "  {'captain': False,\n",
              "   'name': 'MARWAN MOHSEN',\n",
              "   'position': 'Forward',\n",
              "   'shirt_number': 9},\n",
              "  {'captain': False,\n",
              "   'name': 'MOHAMED ABDELSHAFY',\n",
              "   'position': 'Defender',\n",
              "   'shirt_number': 13},\n",
              "  {'captain': False,\n",
              "   'name': 'MOHAMED ELNENY',\n",
              "   'position': 'Midfield',\n",
              "   'shirt_number': 17},\n",
              "  {'captain': False,\n",
              "   'name': 'ABDALLA SAID',\n",
              "   'position': 'Midfield',\n",
              "   'shirt_number': 19},\n",
              "  {'captain': False,\n",
              "   'name': 'TREZIGUET',\n",
              "   'position': 'Midfield',\n",
              "   'shirt_number': 21},\n",
              "  {'captain': False,\n",
              "   'name': 'AMR WARDA',\n",
              "   'position': 'Forward',\n",
              "   'shirt_number': 22}],\n",
              " 'substitutes': [{'captain': False,\n",
              "   'name': 'ESSAM ELHADARY',\n",
              "   'position': 'Goalie',\n",
              "   'shirt_number': 1},\n",
              "  {'captain': False,\n",
              "   'name': 'AHMED ELMOHAMADY',\n",
              "   'position': 'Defender',\n",
              "   'shirt_number': 3},\n",
              "  {'captain': False,\n",
              "   'name': 'OMAR GABER',\n",
              "   'position': 'Midfield',\n",
              "   'shirt_number': 4},\n",
              "  {'captain': False,\n",
              "   'name': 'SAM MORSY',\n",
              "   'position': 'Midfield',\n",
              "   'shirt_number': 5},\n",
              "  {'captain': False,\n",
              "   'name': 'MOHAMED SALAH',\n",
              "   'position': 'Forward',\n",
              "   'shirt_number': 10},\n",
              "  {'captain': False,\n",
              "   'name': 'KAHRABA',\n",
              "   'position': 'Forward',\n",
              "   'shirt_number': 11},\n",
              "  {'captain': False,\n",
              "   'name': 'AYMAN ASHRAF',\n",
              "   'position': 'Defender',\n",
              "   'shirt_number': 12},\n",
              "  {'captain': False,\n",
              "   'name': 'RAMADAN SOBHY',\n",
              "   'position': 'Forward',\n",
              "   'shirt_number': 14},\n",
              "  {'captain': False,\n",
              "   'name': 'MAHMOUD HAMDY',\n",
              "   'position': 'Defender',\n",
              "   'shirt_number': 15},\n",
              "  {'captain': False,\n",
              "   'name': 'SHERIF EKRAMY',\n",
              "   'position': 'Goalie',\n",
              "   'shirt_number': 16},\n",
              "  {'captain': False,\n",
              "   'name': 'SHIKABALA',\n",
              "   'position': 'Forward',\n",
              "   'shirt_number': 18},\n",
              "  {'captain': False,\n",
              "   'name': 'SAMIR SAAD',\n",
              "   'position': 'Defender',\n",
              "   'shirt_number': 20}],\n",
              " 'tackles': 12,\n",
              " 'tactics': '4-2-3-1',\n",
              " 'woodwork': 0,\n",
              " 'yellow_cards': 2}"
            ]
          },
          "metadata": {
            "tags": []
          },
          "execution_count": 1
        }
      ]
    },
    {
      "cell_type": "markdown",
      "metadata": {
        "id": "8uQnuaoFZQSm"
      },
      "source": [
        "1. Посчитайте количество проданных билетов на все матчи ЧМ 2018(количество зрителей)"
      ]
    },
    {
      "cell_type": "code",
      "metadata": {
        "id": "70cp-RySZX-w",
        "outputId": "0f6036bc-a9c5-447b-9d3f-78c5d194c85c",
        "colab": {
          "base_uri": "https://localhost:8080/",
          "height": 34
        }
      },
      "source": [
        "df['attendance'] = df['attendance'].astype(int)\n",
        "df['attendance'].sum()\n"
      ],
      "execution_count": null,
      "outputs": [
        {
          "output_type": "execute_result",
          "data": {
            "text/plain": [
              "3031768"
            ]
          },
          "metadata": {
            "tags": []
          },
          "execution_count": 3
        }
      ]
    },
    {
      "cell_type": "markdown",
      "metadata": {
        "id": "DhA5IckIdHuw"
      },
      "source": [
        "2. Найдите среднюю температуру воздуха в градусах цельсия с точностью до 2 знаков после запятой."
      ]
    },
    {
      "cell_type": "code",
      "metadata": {
        "id": "xTbJk2HOdIMf",
        "outputId": "82281321-2982-47a0-a904-f23a33b68526",
        "colab": {
          "base_uri": "https://localhost:8080/",
          "height": 34
        }
      },
      "source": [
        "def extract(x):\n",
        "  return int(x['temp_celsius'])\n",
        "df['temp'] = df['weather'].apply(extract)\n",
        "df['temp'].describe()['mean']"
      ],
      "execution_count": null,
      "outputs": [
        {
          "output_type": "execute_result",
          "data": {
            "text/plain": [
              "23.75"
            ]
          },
          "metadata": {
            "tags": []
          },
          "execution_count": 3
        }
      ]
    },
    {
      "cell_type": "markdown",
      "metadata": {
        "id": "dysythAafd12"
      },
      "source": [
        "3. Найти самый активный матч(по количеству событий).\n",
        "Ответ введите в формате \n",
        "\"Хозяева-Гости\""
      ]
    },
    {
      "cell_type": "code",
      "metadata": {
        "id": "fHf-8o3hfeA_",
        "outputId": "0fc3fc1e-23c6-4392-ec09-314309953f2f",
        "colab": {
          "base_uri": "https://localhost:8080/",
          "height": 366
        }
      },
      "source": [
        "def extract1 (x):\n",
        "  return len(x)\n",
        "df['acts'] = df['home_team_events'].apply(extract1) + df['away_team_events'].apply(extract1)\n",
        "df[df['acts'] == df['acts'].max()]\n"
      ],
      "execution_count": null,
      "outputs": [
        {
          "output_type": "execute_result",
          "data": {
            "text/html": [
              "<div>\n",
              "<style scoped>\n",
              "    .dataframe tbody tr th:only-of-type {\n",
              "        vertical-align: middle;\n",
              "    }\n",
              "\n",
              "    .dataframe tbody tr th {\n",
              "        vertical-align: top;\n",
              "    }\n",
              "\n",
              "    .dataframe thead th {\n",
              "        text-align: right;\n",
              "    }\n",
              "</style>\n",
              "<table border=\"1\" class=\"dataframe\">\n",
              "  <thead>\n",
              "    <tr style=\"text-align: right;\">\n",
              "      <th></th>\n",
              "      <th>venue</th>\n",
              "      <th>location</th>\n",
              "      <th>status</th>\n",
              "      <th>time</th>\n",
              "      <th>fifa_id</th>\n",
              "      <th>weather</th>\n",
              "      <th>attendance</th>\n",
              "      <th>officials</th>\n",
              "      <th>stage_name</th>\n",
              "      <th>home_team_country</th>\n",
              "      <th>away_team_country</th>\n",
              "      <th>datetime</th>\n",
              "      <th>winner</th>\n",
              "      <th>winner_code</th>\n",
              "      <th>home_team</th>\n",
              "      <th>away_team</th>\n",
              "      <th>home_team_events</th>\n",
              "      <th>away_team_events</th>\n",
              "      <th>home_team_statistics</th>\n",
              "      <th>away_team_statistics</th>\n",
              "      <th>last_event_update_at</th>\n",
              "      <th>last_score_update_at</th>\n",
              "      <th>temp</th>\n",
              "      <th>acts</th>\n",
              "    </tr>\n",
              "  </thead>\n",
              "  <tbody>\n",
              "    <tr>\n",
              "      <th>48</th>\n",
              "      <td>Kazan</td>\n",
              "      <td>Kazan Arena</td>\n",
              "      <td>completed</td>\n",
              "      <td>full-time</td>\n",
              "      <td>300331537</td>\n",
              "      <td>{'humidity': '33', 'temp_celsius': '28', 'temp...</td>\n",
              "      <td>42873</td>\n",
              "      <td>[Alireza FAGHANI, Reza SOKHANDAN, Mohammadreza...</td>\n",
              "      <td>Round of 16</td>\n",
              "      <td>France</td>\n",
              "      <td>Argentina</td>\n",
              "      <td>2018-06-30T14:00:00Z</td>\n",
              "      <td>France</td>\n",
              "      <td>FRA</td>\n",
              "      <td>{'country': 'France', 'code': 'FRA', 'goals': ...</td>\n",
              "      <td>{'country': 'Argentina', 'code': 'ARG', 'goals...</td>\n",
              "      <td>[{'id': 877, 'type_of_event': 'goal-penalty', ...</td>\n",
              "      <td>[{'id': 876, 'type_of_event': 'yellow-card', '...</td>\n",
              "      <td>{'country': 'France', 'attempts_on_goal': 9, '...</td>\n",
              "      <td>{'country': 'Argentina', 'attempts_on_goal': 9...</td>\n",
              "      <td>2018-06-30T17:16:20Z</td>\n",
              "      <td>2018-06-30T17:16:20Z</td>\n",
              "      <td>28</td>\n",
              "      <td>27</td>\n",
              "    </tr>\n",
              "    <tr>\n",
              "      <th>55</th>\n",
              "      <td>Moscow</td>\n",
              "      <td>Spartak Stadium</td>\n",
              "      <td>completed</td>\n",
              "      <td>full-time</td>\n",
              "      <td>300331542</td>\n",
              "      <td>{'humidity': '61', 'temp_celsius': '18', 'temp...</td>\n",
              "      <td>44190</td>\n",
              "      <td>[Mark GEIGER, Joe FLETCHER, Frank ANDERSON, Ma...</td>\n",
              "      <td>Round of 16</td>\n",
              "      <td>Colombia</td>\n",
              "      <td>England</td>\n",
              "      <td>2018-07-03T18:00:00Z</td>\n",
              "      <td>England</td>\n",
              "      <td>ENG</td>\n",
              "      <td>{'country': 'Colombia', 'code': 'COL', 'goals'...</td>\n",
              "      <td>{'country': 'England', 'code': 'ENG', 'goals':...</td>\n",
              "      <td>[{'id': 1012, 'type_of_event': 'yellow-card', ...</td>\n",
              "      <td>[{'id': 1015, 'type_of_event': 'yellow-card', ...</td>\n",
              "      <td>{'country': 'Colombia', 'attempts_on_goal': 14...</td>\n",
              "      <td>{'country': 'England', 'attempts_on_goal': 16,...</td>\n",
              "      <td>2018-07-03T20:53:13Z</td>\n",
              "      <td>2018-07-03T20:53:13Z</td>\n",
              "      <td>18</td>\n",
              "      <td>27</td>\n",
              "    </tr>\n",
              "    <tr>\n",
              "      <th>59</th>\n",
              "      <td>Sochi</td>\n",
              "      <td>Fisht Stadium</td>\n",
              "      <td>completed</td>\n",
              "      <td>full-time</td>\n",
              "      <td>300331504</td>\n",
              "      <td>{'humidity': '70', 'temp_celsius': '24', 'temp...</td>\n",
              "      <td>44287</td>\n",
              "      <td>[Sandro RICCI, Emerson DE CARVALHO, Marcelo VA...</td>\n",
              "      <td>Quarter-finals</td>\n",
              "      <td>Russia</td>\n",
              "      <td>Croatia</td>\n",
              "      <td>2018-07-07T18:00:00Z</td>\n",
              "      <td>Croatia</td>\n",
              "      <td>CRO</td>\n",
              "      <td>{'country': 'Russia', 'code': 'RUS', 'goals': ...</td>\n",
              "      <td>{'country': 'Croatia', 'code': 'CRO', 'goals':...</td>\n",
              "      <td>[{'id': 1094, 'type_of_event': 'goal', 'player...</td>\n",
              "      <td>[{'id': 1095, 'type_of_event': 'yellow-card', ...</td>\n",
              "      <td>{'country': 'Russia', 'attempts_on_goal': 13, ...</td>\n",
              "      <td>{'country': 'Croatia', 'attempts_on_goal': 17,...</td>\n",
              "      <td>2018-07-07T20:51:30Z</td>\n",
              "      <td>2018-07-07T20:51:30Z</td>\n",
              "      <td>24</td>\n",
              "      <td>27</td>\n",
              "    </tr>\n",
              "  </tbody>\n",
              "</table>\n",
              "</div>"
            ],
            "text/plain": [
              "     venue         location     status  ...  last_score_update_at temp acts\n",
              "48   Kazan      Kazan Arena  completed  ...  2018-06-30T17:16:20Z   28   27\n",
              "55  Moscow  Spartak Stadium  completed  ...  2018-07-03T20:53:13Z   18   27\n",
              "59   Sochi    Fisht Stadium  completed  ...  2018-07-07T20:51:30Z   24   27\n",
              "\n",
              "[3 rows x 24 columns]"
            ]
          },
          "metadata": {
            "tags": []
          },
          "execution_count": 4
        }
      ]
    },
    {
      "cell_type": "markdown",
      "metadata": {
        "id": "ZkzpwKPOkCz3"
      },
      "source": [
        "4. Найти самый пассивный матч(по количеству событий).\n",
        "Ответ введите в формате \n",
        "\"Хозяева-Гости\""
      ]
    },
    {
      "cell_type": "code",
      "metadata": {
        "id": "mfx6EzEKkC_A",
        "outputId": "19557d62-6bc3-4a4d-8c1c-079bf4ee06ee",
        "colab": {
          "base_uri": "https://localhost:8080/",
          "height": 185
        }
      },
      "source": [
        "df[df['acts'] == df['acts'].min()]"
      ],
      "execution_count": null,
      "outputs": [
        {
          "output_type": "execute_result",
          "data": {
            "text/html": [
              "<div>\n",
              "<style scoped>\n",
              "    .dataframe tbody tr th:only-of-type {\n",
              "        vertical-align: middle;\n",
              "    }\n",
              "\n",
              "    .dataframe tbody tr th {\n",
              "        vertical-align: top;\n",
              "    }\n",
              "\n",
              "    .dataframe thead th {\n",
              "        text-align: right;\n",
              "    }\n",
              "</style>\n",
              "<table border=\"1\" class=\"dataframe\">\n",
              "  <thead>\n",
              "    <tr style=\"text-align: right;\">\n",
              "      <th></th>\n",
              "      <th>venue</th>\n",
              "      <th>location</th>\n",
              "      <th>status</th>\n",
              "      <th>time</th>\n",
              "      <th>fifa_id</th>\n",
              "      <th>weather</th>\n",
              "      <th>attendance</th>\n",
              "      <th>officials</th>\n",
              "      <th>stage_name</th>\n",
              "      <th>home_team_country</th>\n",
              "      <th>away_team_country</th>\n",
              "      <th>datetime</th>\n",
              "      <th>winner</th>\n",
              "      <th>winner_code</th>\n",
              "      <th>home_team</th>\n",
              "      <th>away_team</th>\n",
              "      <th>home_team_events</th>\n",
              "      <th>away_team_events</th>\n",
              "      <th>home_team_statistics</th>\n",
              "      <th>away_team_statistics</th>\n",
              "      <th>last_event_update_at</th>\n",
              "      <th>last_score_update_at</th>\n",
              "      <th>temp</th>\n",
              "      <th>acts</th>\n",
              "    </tr>\n",
              "  </thead>\n",
              "  <tbody>\n",
              "    <tr>\n",
              "      <th>46</th>\n",
              "      <td>Kaliningrad</td>\n",
              "      <td>Kaliningrad Stadium</td>\n",
              "      <td>completed</td>\n",
              "      <td>full-time</td>\n",
              "      <td>300340182</td>\n",
              "      <td>{'humidity': '61', 'temp_celsius': '21', 'temp...</td>\n",
              "      <td>33973</td>\n",
              "      <td>[Damir SKOMINA, Jure PRAPROTNIK, Robert VUKAN,...</td>\n",
              "      <td>First stage</td>\n",
              "      <td>England</td>\n",
              "      <td>Belgium</td>\n",
              "      <td>2018-06-28T18:00:00Z</td>\n",
              "      <td>Belgium</td>\n",
              "      <td>BEL</td>\n",
              "      <td>{'country': 'England', 'code': 'ENG', 'goals':...</td>\n",
              "      <td>{'country': 'Belgium', 'code': 'BEL', 'goals':...</td>\n",
              "      <td>[{'id': 848, 'type_of_event': 'substitution-ou...</td>\n",
              "      <td>[{'id': 843, 'type_of_event': 'yellow-card', '...</td>\n",
              "      <td>{'country': 'England', 'attempts_on_goal': 13,...</td>\n",
              "      <td>{'country': 'Belgium', 'attempts_on_goal': 15,...</td>\n",
              "      <td>2018-06-28T19:51:13Z</td>\n",
              "      <td>2018-06-28T19:51:13Z</td>\n",
              "      <td>21</td>\n",
              "      <td>11</td>\n",
              "    </tr>\n",
              "  </tbody>\n",
              "</table>\n",
              "</div>"
            ],
            "text/plain": [
              "          venue             location  ... temp acts\n",
              "46  Kaliningrad  Kaliningrad Stadium  ...   21   11\n",
              "\n",
              "[1 rows x 24 columns]"
            ]
          },
          "metadata": {
            "tags": []
          },
          "execution_count": 5
        }
      ]
    },
    {
      "cell_type": "markdown",
      "metadata": {
        "id": "97fAxisekd6-"
      },
      "source": [
        "5. Найдите самый непопулярный матч(по количеству зрителей)\n",
        "Ответ введите в формате \"Хозяева—Гости\""
      ]
    },
    {
      "cell_type": "code",
      "metadata": {
        "id": "VrgdaMESkeGD",
        "outputId": "e65d4d1d-fbdb-4cdb-81b1-efbf29d32014",
        "colab": {
          "base_uri": "https://localhost:8080/",
          "height": 202
        }
      },
      "source": [
        "df[df['attendance'] == df['attendance'].min()]"
      ],
      "execution_count": null,
      "outputs": [
        {
          "output_type": "execute_result",
          "data": {
            "text/html": [
              "<div>\n",
              "<style scoped>\n",
              "    .dataframe tbody tr th:only-of-type {\n",
              "        vertical-align: middle;\n",
              "    }\n",
              "\n",
              "    .dataframe tbody tr th {\n",
              "        vertical-align: top;\n",
              "    }\n",
              "\n",
              "    .dataframe thead th {\n",
              "        text-align: right;\n",
              "    }\n",
              "</style>\n",
              "<table border=\"1\" class=\"dataframe\">\n",
              "  <thead>\n",
              "    <tr style=\"text-align: right;\">\n",
              "      <th></th>\n",
              "      <th>venue</th>\n",
              "      <th>location</th>\n",
              "      <th>status</th>\n",
              "      <th>time</th>\n",
              "      <th>fifa_id</th>\n",
              "      <th>weather</th>\n",
              "      <th>attendance</th>\n",
              "      <th>officials</th>\n",
              "      <th>stage_name</th>\n",
              "      <th>home_team_country</th>\n",
              "      <th>away_team_country</th>\n",
              "      <th>datetime</th>\n",
              "      <th>winner</th>\n",
              "      <th>winner_code</th>\n",
              "      <th>home_team</th>\n",
              "      <th>away_team</th>\n",
              "      <th>home_team_events</th>\n",
              "      <th>away_team_events</th>\n",
              "      <th>home_team_statistics</th>\n",
              "      <th>away_team_statistics</th>\n",
              "      <th>last_event_update_at</th>\n",
              "      <th>last_score_update_at</th>\n",
              "      <th>temp</th>\n",
              "      <th>acts</th>\n",
              "    </tr>\n",
              "  </thead>\n",
              "  <tbody>\n",
              "    <tr>\n",
              "      <th>1</th>\n",
              "      <td>Ekaterinburg</td>\n",
              "      <td>Ekaterinburg Arena</td>\n",
              "      <td>completed</td>\n",
              "      <td>full-time</td>\n",
              "      <td>300353632</td>\n",
              "      <td>{'humidity': '42', 'temp_celsius': '14', 'temp...</td>\n",
              "      <td>27015</td>\n",
              "      <td>[Bjorn KUIPERS, Sander VAN ROEKEL, Erwin ZEINS...</td>\n",
              "      <td>First stage</td>\n",
              "      <td>Egypt</td>\n",
              "      <td>Uruguay</td>\n",
              "      <td>2018-06-15T12:00:00Z</td>\n",
              "      <td>Uruguay</td>\n",
              "      <td>URU</td>\n",
              "      <td>{'country': 'Egypt', 'code': 'EGY', 'goals': 0...</td>\n",
              "      <td>{'country': 'Uruguay', 'code': 'URU', 'goals':...</td>\n",
              "      <td>[{'id': 14, 'type_of_event': 'substitution-in'...</td>\n",
              "      <td>[{'id': 15, 'type_of_event': 'substitution-in'...</td>\n",
              "      <td>{'country': 'Egypt', 'attempts_on_goal': 8, 'o...</td>\n",
              "      <td>{'country': 'Uruguay', 'attempts_on_goal': 14,...</td>\n",
              "      <td>2018-06-21T02:37:25Z</td>\n",
              "      <td>None</td>\n",
              "      <td>14</td>\n",
              "      <td>15</td>\n",
              "    </tr>\n",
              "  </tbody>\n",
              "</table>\n",
              "</div>"
            ],
            "text/plain": [
              "          venue            location     status  ... last_score_update_at temp acts\n",
              "1  Ekaterinburg  Ekaterinburg Arena  completed  ...                 None   14   15\n",
              "\n",
              "[1 rows x 24 columns]"
            ]
          },
          "metadata": {
            "tags": []
          },
          "execution_count": 6
        }
      ]
    },
    {
      "cell_type": "markdown",
      "metadata": {
        "id": "MTiwnzloDSq7"
      },
      "source": [
        "6. Найдите самый популярный матч(по количеству зрителей)"
      ]
    },
    {
      "cell_type": "code",
      "metadata": {
        "id": "O-TTW9JJDS_n",
        "outputId": "2ebb05d2-6c00-451a-a212-b8a7573aa02d",
        "colab": {
          "base_uri": "https://localhost:8080/",
          "height": 779
        }
      },
      "source": [
        "df[df['attendance'] == df['attendance'].max()]"
      ],
      "execution_count": null,
      "outputs": [
        {
          "output_type": "execute_result",
          "data": {
            "text/html": [
              "<div>\n",
              "<style scoped>\n",
              "    .dataframe tbody tr th:only-of-type {\n",
              "        vertical-align: middle;\n",
              "    }\n",
              "\n",
              "    .dataframe tbody tr th {\n",
              "        vertical-align: top;\n",
              "    }\n",
              "\n",
              "    .dataframe thead th {\n",
              "        text-align: right;\n",
              "    }\n",
              "</style>\n",
              "<table border=\"1\" class=\"dataframe\">\n",
              "  <thead>\n",
              "    <tr style=\"text-align: right;\">\n",
              "      <th></th>\n",
              "      <th>venue</th>\n",
              "      <th>location</th>\n",
              "      <th>status</th>\n",
              "      <th>time</th>\n",
              "      <th>fifa_id</th>\n",
              "      <th>weather</th>\n",
              "      <th>attendance</th>\n",
              "      <th>officials</th>\n",
              "      <th>stage_name</th>\n",
              "      <th>home_team_country</th>\n",
              "      <th>away_team_country</th>\n",
              "      <th>datetime</th>\n",
              "      <th>winner</th>\n",
              "      <th>winner_code</th>\n",
              "      <th>home_team</th>\n",
              "      <th>away_team</th>\n",
              "      <th>home_team_events</th>\n",
              "      <th>away_team_events</th>\n",
              "      <th>home_team_statistics</th>\n",
              "      <th>away_team_statistics</th>\n",
              "      <th>last_event_update_at</th>\n",
              "      <th>last_score_update_at</th>\n",
              "      <th>temp</th>\n",
              "      <th>acts</th>\n",
              "    </tr>\n",
              "  </thead>\n",
              "  <tbody>\n",
              "    <tr>\n",
              "      <th>0</th>\n",
              "      <td>Moscow</td>\n",
              "      <td>Luzhniki Stadium</td>\n",
              "      <td>completed</td>\n",
              "      <td>full-time</td>\n",
              "      <td>300331503</td>\n",
              "      <td>{'humidity': '43', 'temp_celsius': '17', 'temp...</td>\n",
              "      <td>78011</td>\n",
              "      <td>[Nestor PITANA, Hernan MAIDANA, Juan Pablo BEL...</td>\n",
              "      <td>First stage</td>\n",
              "      <td>Russia</td>\n",
              "      <td>Saudi Arabia</td>\n",
              "      <td>2018-06-14T15:00:00Z</td>\n",
              "      <td>Russia</td>\n",
              "      <td>RUS</td>\n",
              "      <td>{'country': 'Russia', 'code': 'RUS', 'goals': ...</td>\n",
              "      <td>{'country': 'Saudi Arabia', 'code': 'KSA', 'go...</td>\n",
              "      <td>[{'id': 5, 'type_of_event': 'goal', 'player': ...</td>\n",
              "      <td>[{'id': 12, 'type_of_event': 'substitution-in'...</td>\n",
              "      <td>{'country': 'Russia', 'attempts_on_goal': 13, ...</td>\n",
              "      <td>{'country': 'Saudi Arabia', 'attempts_on_goal'...</td>\n",
              "      <td>2018-06-21T02:36:44Z</td>\n",
              "      <td>None</td>\n",
              "      <td>17</td>\n",
              "      <td>20</td>\n",
              "    </tr>\n",
              "    <tr>\n",
              "      <th>9</th>\n",
              "      <td>Moscow</td>\n",
              "      <td>Luzhniki Stadium</td>\n",
              "      <td>completed</td>\n",
              "      <td>full-time</td>\n",
              "      <td>300331502</td>\n",
              "      <td>{'humidity': '42', 'temp_celsius': '23', 'temp...</td>\n",
              "      <td>78011</td>\n",
              "      <td>[Alireza FAGHANI, Reza SOKHANDAN, Mohammadreza...</td>\n",
              "      <td>First stage</td>\n",
              "      <td>Germany</td>\n",
              "      <td>Mexico</td>\n",
              "      <td>2018-06-17T15:00:00Z</td>\n",
              "      <td>Mexico</td>\n",
              "      <td>MEX</td>\n",
              "      <td>{'country': 'Germany', 'code': 'GER', 'goals':...</td>\n",
              "      <td>{'country': 'Mexico', 'code': 'MEX', 'goals': ...</td>\n",
              "      <td>[{'id': 119, 'type_of_event': 'substitution-ou...</td>\n",
              "      <td>[{'id': 115, 'type_of_event': 'goal', 'player'...</td>\n",
              "      <td>{'country': 'Germany', 'attempts_on_goal': 25,...</td>\n",
              "      <td>{'country': 'Mexico', 'attempts_on_goal': 12, ...</td>\n",
              "      <td>2018-06-21T02:43:20Z</td>\n",
              "      <td>2018-06-17T16:50:54Z</td>\n",
              "      <td>23</td>\n",
              "      <td>17</td>\n",
              "    </tr>\n",
              "    <tr>\n",
              "      <th>17</th>\n",
              "      <td>Moscow</td>\n",
              "      <td>Luzhniki Stadium</td>\n",
              "      <td>completed</td>\n",
              "      <td>full-time</td>\n",
              "      <td>300331511</td>\n",
              "      <td>{'humidity': '33', 'temp_celsius': '20', 'temp...</td>\n",
              "      <td>78011</td>\n",
              "      <td>[Mark GEIGER, Joe FLETCHER, Frank ANDERSON, Se...</td>\n",
              "      <td>First stage</td>\n",
              "      <td>Portugal</td>\n",
              "      <td>Morocco</td>\n",
              "      <td>2018-06-20T12:00:00Z</td>\n",
              "      <td>Portugal</td>\n",
              "      <td>POR</td>\n",
              "      <td>{'country': 'Portugal', 'code': 'POR', 'goals'...</td>\n",
              "      <td>{'country': 'Morocco', 'code': 'MAR', 'goals':...</td>\n",
              "      <td>[{'id': 259, 'type_of_event': 'goal', 'player'...</td>\n",
              "      <td>[{'id': 260, 'type_of_event': 'yellow-card', '...</td>\n",
              "      <td>{'country': 'Portugal', 'attempts_on_goal': 10...</td>\n",
              "      <td>{'country': 'Morocco', 'attempts_on_goal': 16,...</td>\n",
              "      <td>2018-06-21T02:35:54Z</td>\n",
              "      <td>2018-06-20T13:55:28Z</td>\n",
              "      <td>20</td>\n",
              "      <td>17</td>\n",
              "    </tr>\n",
              "    <tr>\n",
              "      <th>36</th>\n",
              "      <td>Moscow</td>\n",
              "      <td>Luzhniki Stadium</td>\n",
              "      <td>completed</td>\n",
              "      <td>full-time</td>\n",
              "      <td>300331512</td>\n",
              "      <td>{'humidity': '34', 'temp_celsius': '24', 'temp...</td>\n",
              "      <td>78011</td>\n",
              "      <td>[Sandro RICCI, Emerson DE CARVALHO, Marcelo VA...</td>\n",
              "      <td>First stage</td>\n",
              "      <td>Denmark</td>\n",
              "      <td>France</td>\n",
              "      <td>2018-06-26T14:00:00Z</td>\n",
              "      <td>Draw</td>\n",
              "      <td>Draw</td>\n",
              "      <td>{'country': 'Denmark', 'code': 'DEN', 'goals':...</td>\n",
              "      <td>{'country': 'France', 'code': 'FRA', 'goals': ...</td>\n",
              "      <td>[{'id': 664, 'type_of_event': 'yellow-card', '...</td>\n",
              "      <td>[{'id': 667, 'type_of_event': 'substitution-ou...</td>\n",
              "      <td>{'country': 'Denmark', 'attempts_on_goal': 5, ...</td>\n",
              "      <td>{'country': 'France', 'attempts_on_goal': 11, ...</td>\n",
              "      <td>2018-06-26T15:51:55Z</td>\n",
              "      <td>2018-06-26T15:51:55Z</td>\n",
              "      <td>24</td>\n",
              "      <td>13</td>\n",
              "    </tr>\n",
              "    <tr>\n",
              "      <th>50</th>\n",
              "      <td>Moscow</td>\n",
              "      <td>Luzhniki Stadium</td>\n",
              "      <td>completed</td>\n",
              "      <td>full-time</td>\n",
              "      <td>300331517</td>\n",
              "      <td>{'humidity': '63', 'temp_celsius': '24', 'temp...</td>\n",
              "      <td>78011</td>\n",
              "      <td>[Bjorn KUIPERS, Sander VAN ROEKEL, Erwin ZEINS...</td>\n",
              "      <td>Round of 16</td>\n",
              "      <td>Spain</td>\n",
              "      <td>Russia</td>\n",
              "      <td>2018-07-01T14:00:00Z</td>\n",
              "      <td>Russia</td>\n",
              "      <td>RUS</td>\n",
              "      <td>{'country': 'Spain', 'code': 'ESP', 'goals': 1...</td>\n",
              "      <td>{'country': 'Russia', 'code': 'RUS', 'goals': ...</td>\n",
              "      <td>[{'id': 920, 'type_of_event': 'yellow-card', '...</td>\n",
              "      <td>[{'id': 919, 'type_of_event': 'goal-own', 'pla...</td>\n",
              "      <td>{'country': 'Spain', 'attempts_on_goal': 25, '...</td>\n",
              "      <td>{'country': 'Russia', 'attempts_on_goal': 6, '...</td>\n",
              "      <td>2018-07-01T16:53:15Z</td>\n",
              "      <td>2018-07-01T16:53:15Z</td>\n",
              "      <td>24</td>\n",
              "      <td>22</td>\n",
              "    </tr>\n",
              "    <tr>\n",
              "      <th>61</th>\n",
              "      <td>Moscow</td>\n",
              "      <td>Luzhniki Stadium</td>\n",
              "      <td>completed</td>\n",
              "      <td>full-time</td>\n",
              "      <td>300331522</td>\n",
              "      <td>{'humidity': '64', 'temp_celsius': '21', 'temp...</td>\n",
              "      <td>78011</td>\n",
              "      <td>[Cuneyt CAKIR, Bahattin DURAN, Tarik ONGUN, Bj...</td>\n",
              "      <td>Semi-finals</td>\n",
              "      <td>Croatia</td>\n",
              "      <td>England</td>\n",
              "      <td>2018-07-11T18:00:00Z</td>\n",
              "      <td>Croatia</td>\n",
              "      <td>CRO</td>\n",
              "      <td>{'country': 'Croatia', 'code': 'CRO', 'goals':...</td>\n",
              "      <td>{'country': 'England', 'code': 'ENG', 'goals':...</td>\n",
              "      <td>[{'id': 1138, 'type_of_event': 'yellow-card', ...</td>\n",
              "      <td>[{'id': 1137, 'type_of_event': 'goal', 'player...</td>\n",
              "      <td>{'country': 'Croatia', 'attempts_on_goal': 22,...</td>\n",
              "      <td>{'country': 'England', 'attempts_on_goal': 11,...</td>\n",
              "      <td>2018-07-11T20:37:36Z</td>\n",
              "      <td>2018-07-11T20:37:36Z</td>\n",
              "      <td>21</td>\n",
              "      <td>23</td>\n",
              "    </tr>\n",
              "    <tr>\n",
              "      <th>63</th>\n",
              "      <td>Moscow</td>\n",
              "      <td>Luzhniki Stadium</td>\n",
              "      <td>completed</td>\n",
              "      <td>full-time</td>\n",
              "      <td>300331552</td>\n",
              "      <td>{'humidity': '51', 'temp_celsius': '27', 'temp...</td>\n",
              "      <td>78011</td>\n",
              "      <td>[Nestor PITANA, Hernan MAIDANA, Juan Pablo BEL...</td>\n",
              "      <td>Final</td>\n",
              "      <td>France</td>\n",
              "      <td>Croatia</td>\n",
              "      <td>2018-07-15T15:00:00Z</td>\n",
              "      <td>France</td>\n",
              "      <td>FRA</td>\n",
              "      <td>{'country': 'France', 'code': 'FRA', 'goals': ...</td>\n",
              "      <td>{'country': 'Croatia', 'code': 'CRO', 'goals':...</td>\n",
              "      <td>[{'id': 1179, 'type_of_event': 'yellow-card', ...</td>\n",
              "      <td>[{'id': 1178, 'type_of_event': 'goal-own', 'pl...</td>\n",
              "      <td>{'country': 'France', 'attempts_on_goal': 8, '...</td>\n",
              "      <td>{'country': 'Croatia', 'attempts_on_goal': 15,...</td>\n",
              "      <td>2018-07-15T16:54:32Z</td>\n",
              "      <td>2018-07-15T16:54:32Z</td>\n",
              "      <td>27</td>\n",
              "      <td>22</td>\n",
              "    </tr>\n",
              "  </tbody>\n",
              "</table>\n",
              "</div>"
            ],
            "text/plain": [
              "     venue          location     status  ...  last_score_update_at temp acts\n",
              "0   Moscow  Luzhniki Stadium  completed  ...                  None   17   20\n",
              "9   Moscow  Luzhniki Stadium  completed  ...  2018-06-17T16:50:54Z   23   17\n",
              "17  Moscow  Luzhniki Stadium  completed  ...  2018-06-20T13:55:28Z   20   17\n",
              "36  Moscow  Luzhniki Stadium  completed  ...  2018-06-26T15:51:55Z   24   13\n",
              "50  Moscow  Luzhniki Stadium  completed  ...  2018-07-01T16:53:15Z   24   22\n",
              "61  Moscow  Luzhniki Stadium  completed  ...  2018-07-11T20:37:36Z   21   23\n",
              "63  Moscow  Luzhniki Stadium  completed  ...  2018-07-15T16:54:32Z   27   22\n",
              "\n",
              "[7 rows x 24 columns]"
            ]
          },
          "metadata": {
            "tags": []
          },
          "execution_count": 7
        }
      ]
    },
    {
      "cell_type": "markdown",
      "metadata": {
        "id": "J1OvkPwYEWrP"
      },
      "source": [
        "7.Найдите команду, которая забила больше всех голов за все время турнира"
      ]
    },
    {
      "cell_type": "code",
      "metadata": {
        "id": "MBzjQgsFEW7A",
        "outputId": "4d6071d6-14bb-4850-eb66-3f48ddf063c2",
        "colab": {
          "base_uri": "https://localhost:8080/",
          "height": 34
        }
      },
      "source": [
        "goals = {}\n",
        "def extractGoal(x):\n",
        "  return x['goals']\n",
        "df['goals1'] = df['home_team'].apply(extractGoal)\n",
        "df['goals2'] = df['away_team'].apply(extractGoal)\n",
        "for i in range(64):\n",
        "  if (df['home_team_country'][i] in goals): \n",
        "    goals[df['home_team_country'][i]] += df['goals1'][i] \n",
        "  else: \n",
        "    goals[df['home_team_country'][i]] = 0 \n",
        "for i in range(64): \n",
        "  if (df['away_team_country'][i] in goals): \n",
        "    goals[df['away_team_country'][i]] += df['goals2'][i] \n",
        "  else: \n",
        "    goals[df['away_team_country'][i]] = 0 \n",
        "goals"
      ],
      "execution_count": null,
      "outputs": [
        {
          "output_type": "execute_result",
          "data": {
            "text/plain": [
              "2"
            ]
          },
          "metadata": {
            "tags": []
          },
          "execution_count": 3
        }
      ]
    },
    {
      "cell_type": "markdown",
      "metadata": {
        "id": "TW0o2hg1OL-l"
      },
      "source": [
        "8. Найдите команду, которая забила меньше всех голов за все время."
      ]
    },
    {
      "cell_type": "code",
      "metadata": {
        "id": "kxfkbS-cOMN9",
        "outputId": "a8c5bc23-0bd8-443b-fd82-a13a2edbc7d7",
        "colab": {
          "base_uri": "https://localhost:8080/",
          "height": 561
        }
      },
      "source": [
        "goals"
      ],
      "execution_count": null,
      "outputs": [
        {
          "output_type": "execute_result",
          "data": {
            "text/plain": [
              "{'Argentina': 5,\n",
              " 'Australia': 2,\n",
              " 'Belgium': 13,\n",
              " 'Brazil': 7,\n",
              " 'Colombia': 5,\n",
              " 'Costa Rica': 2,\n",
              " 'Croatia': 12,\n",
              " 'Denmark': 2,\n",
              " 'Egypt': 2,\n",
              " 'England': 6,\n",
              " 'France': 12,\n",
              " 'Germany': 2,\n",
              " 'Iceland': 1,\n",
              " 'Iran': 2,\n",
              " 'Japan': 4,\n",
              " 'Korea Republic': 2,\n",
              " 'Mexico': 3,\n",
              " 'Morocco': 2,\n",
              " 'Nigeria': 1,\n",
              " 'Panama': 1,\n",
              " 'Peru': 2,\n",
              " 'Poland': 1,\n",
              " 'Portugal': 3,\n",
              " 'Russia': 6,\n",
              " 'Saudi Arabia': 0,\n",
              " 'Senegal': 4,\n",
              " 'Serbia': 1,\n",
              " 'Spain': 5,\n",
              " 'Sweden': 5,\n",
              " 'Switzerland': 3,\n",
              " 'Tunisia': 4,\n",
              " 'Uruguay': 6}"
            ]
          },
          "metadata": {
            "tags": []
          },
          "execution_count": 10
        }
      ]
    },
    {
      "cell_type": "markdown",
      "metadata": {
        "id": "2ZVgzszoOlSF"
      },
      "source": [
        "9. Найдите город проведения с самой большой средней температурой за все матчи"
      ]
    },
    {
      "cell_type": "code",
      "metadata": {
        "id": "C1DN0Wa7Old-",
        "outputId": "03ab2b54-4df1-4cbf-d48e-2124890ef92b",
        "colab": {
          "base_uri": "https://localhost:8080/",
          "height": 34
        }
      },
      "source": [
        "df.groupby('venue')['temp'].mean().idxmax()"
      ],
      "execution_count": null,
      "outputs": [
        {
          "output_type": "execute_result",
          "data": {
            "text/plain": [
              "'Volgograd'"
            ]
          },
          "metadata": {
            "tags": []
          },
          "execution_count": 17
        }
      ]
    },
    {
      "cell_type": "markdown",
      "metadata": {
        "id": "AMuSKBNOONke"
      },
      "source": [
        "10. Найдите город проведения с самой маленькой средней температурой за все матчи"
      ]
    },
    {
      "cell_type": "code",
      "metadata": {
        "id": "Nz5n7rMaOPXH",
        "outputId": "21688e94-f45d-4942-d513-000c29e5aa73",
        "colab": {
          "base_uri": "https://localhost:8080/",
          "height": 34
        }
      },
      "source": [
        "df.groupby('venue')['temp'].mean().idxmin()"
      ],
      "execution_count": null,
      "outputs": [
        {
          "output_type": "execute_result",
          "data": {
            "text/plain": [
              "'Kaliningrad'"
            ]
          },
          "metadata": {
            "tags": []
          },
          "execution_count": 18
        }
      ]
    },
    {
      "cell_type": "markdown",
      "metadata": {
        "id": "Bhcx5H6EOpSH"
      },
      "source": [
        "11. Какая была самая популярная расстановка на поле у  команд-хозяев?"
      ]
    },
    {
      "cell_type": "code",
      "metadata": {
        "id": "_lblx_XmOpZd",
        "outputId": "4fc72911-62a6-4e44-b6fd-a104980632a2",
        "colab": {
          "base_uri": "https://localhost:8080/",
          "height": 204
        }
      },
      "source": [
        "def extract(x):\n",
        "  return x['tactics']\n",
        "df['tactics1'] = df['home_team_statistics'].apply(extract)\n",
        "df['tactics2'] = df['away_team_statistics'].apply(extract)\n",
        "x = df.groupby('tactics1').size() \n",
        "y = df.groupby('tactics2').size()\n",
        "x"
      ],
      "execution_count": null,
      "outputs": [
        {
          "output_type": "execute_result",
          "data": {
            "text/plain": [
              "tactics1\n",
              "3-4-2-1     1\n",
              "3-4-3       6\n",
              "3-5-2       5\n",
              "4-2-3-1    33\n",
              "4-3-2-1     1\n",
              "4-3-3       4\n",
              "4-4-2      10\n",
              "4-5-1       3\n",
              "5-4-1       1\n",
              "dtype: int64"
            ]
          },
          "metadata": {
            "tags": []
          },
          "execution_count": 40
        }
      ]
    },
    {
      "cell_type": "markdown",
      "metadata": {
        "id": "peOwHXmzS28e"
      },
      "source": [
        "12 . Найдите команду, которая делала меньше всего замен в среднем за игру. "
      ]
    },
    {
      "cell_type": "code",
      "metadata": {
        "id": "-Y5reIpjS3F1",
        "outputId": "36d758c8-a277-4330-f5e6-d574e979aa31",
        "colab": {
          "base_uri": "https://localhost:8080/",
          "height": 1000
        }
      },
      "source": [
        "def extract(x):\n",
        "  s = 0\n",
        "  for event in x:\n",
        "    if 'substitution' in event['type_of_event']:\n",
        "      s += 1\n",
        "  return s\n",
        "df['home_team_subs'] = df['home_team_events'].apply(extract)\n",
        "df['away_team_subs'] = df['away_team_events'].apply(extract)\n",
        "\n",
        "x = df.groupby('home_team_country')['home_team_subs'].agg(['size','sum'])\n",
        "y = df.groupby('home_team_country')['home_team_subs'].agg(['size','sum'])\n",
        "z = x + y\n",
        "z['mean'] = z['sum']/z['size']\n",
        "z.sort_values(by = 'mean')"
      ],
      "execution_count": null,
      "outputs": [
        {
          "output_type": "execute_result",
          "data": {
            "text/html": [
              "<div>\n",
              "<style scoped>\n",
              "    .dataframe tbody tr th:only-of-type {\n",
              "        vertical-align: middle;\n",
              "    }\n",
              "\n",
              "    .dataframe tbody tr th {\n",
              "        vertical-align: top;\n",
              "    }\n",
              "\n",
              "    .dataframe thead th {\n",
              "        text-align: right;\n",
              "    }\n",
              "</style>\n",
              "<table border=\"1\" class=\"dataframe\">\n",
              "  <thead>\n",
              "    <tr style=\"text-align: right;\">\n",
              "      <th></th>\n",
              "      <th>size</th>\n",
              "      <th>sum</th>\n",
              "      <th>mean</th>\n",
              "    </tr>\n",
              "    <tr>\n",
              "      <th>home_team_country</th>\n",
              "      <th></th>\n",
              "      <th></th>\n",
              "      <th></th>\n",
              "    </tr>\n",
              "  </thead>\n",
              "  <tbody>\n",
              "    <tr>\n",
              "      <th>Saudi Arabia</th>\n",
              "      <td>2</td>\n",
              "      <td>8</td>\n",
              "      <td>4.000000</td>\n",
              "    </tr>\n",
              "    <tr>\n",
              "      <th>Serbia</th>\n",
              "      <td>4</td>\n",
              "      <td>20</td>\n",
              "      <td>5.000000</td>\n",
              "    </tr>\n",
              "    <tr>\n",
              "      <th>Denmark</th>\n",
              "      <td>4</td>\n",
              "      <td>20</td>\n",
              "      <td>5.000000</td>\n",
              "    </tr>\n",
              "    <tr>\n",
              "      <th>England</th>\n",
              "      <td>4</td>\n",
              "      <td>20</td>\n",
              "      <td>5.000000</td>\n",
              "    </tr>\n",
              "    <tr>\n",
              "      <th>Belgium</th>\n",
              "      <td>8</td>\n",
              "      <td>44</td>\n",
              "      <td>5.500000</td>\n",
              "    </tr>\n",
              "    <tr>\n",
              "      <th>France</th>\n",
              "      <td>10</td>\n",
              "      <td>56</td>\n",
              "      <td>5.600000</td>\n",
              "    </tr>\n",
              "    <tr>\n",
              "      <th>Argentina</th>\n",
              "      <td>4</td>\n",
              "      <td>24</td>\n",
              "      <td>6.000000</td>\n",
              "    </tr>\n",
              "    <tr>\n",
              "      <th>Switzerland</th>\n",
              "      <td>2</td>\n",
              "      <td>12</td>\n",
              "      <td>6.000000</td>\n",
              "    </tr>\n",
              "    <tr>\n",
              "      <th>Sweden</th>\n",
              "      <td>6</td>\n",
              "      <td>36</td>\n",
              "      <td>6.000000</td>\n",
              "    </tr>\n",
              "    <tr>\n",
              "      <th>Senegal</th>\n",
              "      <td>2</td>\n",
              "      <td>12</td>\n",
              "      <td>6.000000</td>\n",
              "    </tr>\n",
              "    <tr>\n",
              "      <th>Portugal</th>\n",
              "      <td>4</td>\n",
              "      <td>24</td>\n",
              "      <td>6.000000</td>\n",
              "    </tr>\n",
              "    <tr>\n",
              "      <th>Poland</th>\n",
              "      <td>4</td>\n",
              "      <td>24</td>\n",
              "      <td>6.000000</td>\n",
              "    </tr>\n",
              "    <tr>\n",
              "      <th>Peru</th>\n",
              "      <td>2</td>\n",
              "      <td>12</td>\n",
              "      <td>6.000000</td>\n",
              "    </tr>\n",
              "    <tr>\n",
              "      <th>Panama</th>\n",
              "      <td>2</td>\n",
              "      <td>12</td>\n",
              "      <td>6.000000</td>\n",
              "    </tr>\n",
              "    <tr>\n",
              "      <th>Nigeria</th>\n",
              "      <td>4</td>\n",
              "      <td>24</td>\n",
              "      <td>6.000000</td>\n",
              "    </tr>\n",
              "    <tr>\n",
              "      <th>Mexico</th>\n",
              "      <td>2</td>\n",
              "      <td>12</td>\n",
              "      <td>6.000000</td>\n",
              "    </tr>\n",
              "    <tr>\n",
              "      <th>Korea Republic</th>\n",
              "      <td>4</td>\n",
              "      <td>24</td>\n",
              "      <td>6.000000</td>\n",
              "    </tr>\n",
              "    <tr>\n",
              "      <th>Japan</th>\n",
              "      <td>4</td>\n",
              "      <td>24</td>\n",
              "      <td>6.000000</td>\n",
              "    </tr>\n",
              "    <tr>\n",
              "      <th>Iran</th>\n",
              "      <td>4</td>\n",
              "      <td>24</td>\n",
              "      <td>6.000000</td>\n",
              "    </tr>\n",
              "    <tr>\n",
              "      <th>Iceland</th>\n",
              "      <td>2</td>\n",
              "      <td>12</td>\n",
              "      <td>6.000000</td>\n",
              "    </tr>\n",
              "    <tr>\n",
              "      <th>Germany</th>\n",
              "      <td>4</td>\n",
              "      <td>24</td>\n",
              "      <td>6.000000</td>\n",
              "    </tr>\n",
              "    <tr>\n",
              "      <th>Egypt</th>\n",
              "      <td>2</td>\n",
              "      <td>12</td>\n",
              "      <td>6.000000</td>\n",
              "    </tr>\n",
              "    <tr>\n",
              "      <th>Costa Rica</th>\n",
              "      <td>2</td>\n",
              "      <td>12</td>\n",
              "      <td>6.000000</td>\n",
              "    </tr>\n",
              "    <tr>\n",
              "      <th>Brazil</th>\n",
              "      <td>8</td>\n",
              "      <td>48</td>\n",
              "      <td>6.000000</td>\n",
              "    </tr>\n",
              "    <tr>\n",
              "      <th>Australia</th>\n",
              "      <td>2</td>\n",
              "      <td>12</td>\n",
              "      <td>6.000000</td>\n",
              "    </tr>\n",
              "    <tr>\n",
              "      <th>Tunisia</th>\n",
              "      <td>2</td>\n",
              "      <td>12</td>\n",
              "      <td>6.000000</td>\n",
              "    </tr>\n",
              "    <tr>\n",
              "      <th>Uruguay</th>\n",
              "      <td>8</td>\n",
              "      <td>48</td>\n",
              "      <td>6.000000</td>\n",
              "    </tr>\n",
              "    <tr>\n",
              "      <th>Russia</th>\n",
              "      <td>6</td>\n",
              "      <td>40</td>\n",
              "      <td>6.666667</td>\n",
              "    </tr>\n",
              "    <tr>\n",
              "      <th>Morocco</th>\n",
              "      <td>2</td>\n",
              "      <td>14</td>\n",
              "      <td>7.000000</td>\n",
              "    </tr>\n",
              "    <tr>\n",
              "      <th>Colombia</th>\n",
              "      <td>4</td>\n",
              "      <td>28</td>\n",
              "      <td>7.000000</td>\n",
              "    </tr>\n",
              "    <tr>\n",
              "      <th>Spain</th>\n",
              "      <td>4</td>\n",
              "      <td>28</td>\n",
              "      <td>7.000000</td>\n",
              "    </tr>\n",
              "    <tr>\n",
              "      <th>Croatia</th>\n",
              "      <td>6</td>\n",
              "      <td>44</td>\n",
              "      <td>7.333333</td>\n",
              "    </tr>\n",
              "  </tbody>\n",
              "</table>\n",
              "</div>"
            ],
            "text/plain": [
              "                   size  sum      mean\n",
              "home_team_country                     \n",
              "Saudi Arabia          2    8  4.000000\n",
              "Serbia                4   20  5.000000\n",
              "Denmark               4   20  5.000000\n",
              "England               4   20  5.000000\n",
              "Belgium               8   44  5.500000\n",
              "France               10   56  5.600000\n",
              "Argentina             4   24  6.000000\n",
              "Switzerland           2   12  6.000000\n",
              "Sweden                6   36  6.000000\n",
              "Senegal               2   12  6.000000\n",
              "Portugal              4   24  6.000000\n",
              "Poland                4   24  6.000000\n",
              "Peru                  2   12  6.000000\n",
              "Panama                2   12  6.000000\n",
              "Nigeria               4   24  6.000000\n",
              "Mexico                2   12  6.000000\n",
              "Korea Republic        4   24  6.000000\n",
              "Japan                 4   24  6.000000\n",
              "Iran                  4   24  6.000000\n",
              "Iceland               2   12  6.000000\n",
              "Germany               4   24  6.000000\n",
              "Egypt                 2   12  6.000000\n",
              "Costa Rica            2   12  6.000000\n",
              "Brazil                8   48  6.000000\n",
              "Australia             2   12  6.000000\n",
              "Tunisia               2   12  6.000000\n",
              "Uruguay               8   48  6.000000\n",
              "Russia                6   40  6.666667\n",
              "Morocco               2   14  7.000000\n",
              "Colombia              4   28  7.000000\n",
              "Spain                 4   28  7.000000\n",
              "Croatia               6   44  7.333333"
            ]
          },
          "metadata": {
            "tags": []
          },
          "execution_count": 71
        }
      ]
    },
    {
      "cell_type": "markdown",
      "metadata": {
        "id": "nW2gNcCRZgA8"
      },
      "source": [
        "14. В каком городе было меньше всего болельщиков ?"
      ]
    },
    {
      "cell_type": "code",
      "metadata": {
        "id": "6PD9HPblZgOZ",
        "outputId": "ce9d5677-8137-4c90-87a2-0a83f7f651aa",
        "colab": {
          "base_uri": "https://localhost:8080/",
          "height": 34
        }
      },
      "source": [
        "def toint(x):\n",
        "  return(int(x))\n",
        "df['attendance'] = df['attendance'].apply(toint)\n",
        "df.groupby('venue')['attendance'].sum().idxmin()"
      ],
      "execution_count": null,
      "outputs": [
        {
          "output_type": "execute_result",
          "data": {
            "text/plain": [
              "'Ekaterinburg'"
            ]
          },
          "metadata": {
            "tags": []
          },
          "execution_count": 77
        }
      ]
    }
  ]
}