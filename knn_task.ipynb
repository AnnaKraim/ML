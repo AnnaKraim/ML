{
  "nbformat": 4,
  "nbformat_minor": 0,
  "metadata": {
    "colab": {
      "name": "knn_task.ipynb",
      "provenance": [],
      "collapsed_sections": [],
      "include_colab_link": true
    },
    "kernelspec": {
      "name": "python3",
      "display_name": "Python 3"
    }
  },
  "cells": [
    {
      "cell_type": "markdown",
      "metadata": {
        "id": "view-in-github",
        "colab_type": "text"
      },
      "source": [
        "<a href=\"https://colab.research.google.com/github/AnnaKraim/ML/blob/main/knn_task.ipynb\" target=\"_parent\"><img src=\"https://colab.research.google.com/assets/colab-badge.svg\" alt=\"Open In Colab\"/></a>"
      ]
    },
    {
      "cell_type": "code",
      "metadata": {
        "id": "NrWzikWIpsXa"
      },
      "source": [
        "from sklearn.datasets import load_iris\n",
        "\n",
        "data = load_iris()\n",
        "X = data['data']\n",
        "y = data['target']\n"
      ],
      "execution_count": null,
      "outputs": []
    },
    {
      "cell_type": "code",
      "metadata": {
        "id": "H6YP7qQ6pvRw"
      },
      "source": [
        "from sklearn.neighbors import KNeighborsClassifier\n",
        "from sklearn.model_selection import train_test_split"
      ],
      "execution_count": null,
      "outputs": []
    },
    {
      "cell_type": "code",
      "metadata": {
        "id": "w0ejswI1qiHi"
      },
      "source": [
        "# Разделяем выборку на две части: обучающую(train) и проверочную(test)\n",
        "X_train, X_test, y_train, y_test = train_test_split(X, y, test_size=0.3, random_state=42)"
      ],
      "execution_count": null,
      "outputs": []
    },
    {
      "cell_type": "code",
      "metadata": {
        "id": "BE280qTiqqA1",
        "colab": {
          "base_uri": "https://localhost:8080/",
          "height": 68
        },
        "outputId": "56287883-1ee8-4e14-ca04-4e7aeab5147d"
      },
      "source": [
        "knn = KNeighborsClassifier(n_neighbors=3)\n",
        "# обучаем алгоритм на обучающей выборке\n",
        "knn.fit(X_train, y_train)"
      ],
      "execution_count": null,
      "outputs": [
        {
          "output_type": "execute_result",
          "data": {
            "text/plain": [
              "KNeighborsClassifier(algorithm='auto', leaf_size=30, metric='minkowski',\n",
              "                     metric_params=None, n_jobs=None, n_neighbors=3, p=2,\n",
              "                     weights='uniform')"
            ]
          },
          "metadata": {
            "tags": []
          },
          "execution_count": 4
        }
      ]
    },
    {
      "cell_type": "code",
      "metadata": {
        "id": "j1JlAL2krGfU",
        "colab": {
          "base_uri": "https://localhost:8080/",
          "height": 68
        },
        "outputId": "440d217b-8d40-4c28-cbc4-22e74c871735"
      },
      "source": [
        "# Делаем предсказание для объектов из тестовой выборки\n",
        "knn.predict(X_test)"
      ],
      "execution_count": null,
      "outputs": [
        {
          "output_type": "execute_result",
          "data": {
            "text/plain": [
              "array([1, 0, 2, 1, 1, 0, 1, 2, 1, 1, 2, 0, 0, 0, 0, 1, 2, 1, 1, 2, 0, 2,\n",
              "       0, 2, 2, 2, 2, 2, 0, 0, 0, 0, 1, 0, 0, 2, 1, 0, 0, 0, 2, 1, 1, 0,\n",
              "       0, 1, 1, 2, 1, 2])"
            ]
          },
          "metadata": {
            "tags": []
          },
          "execution_count": 5
        }
      ]
    },
    {
      "cell_type": "code",
      "metadata": {
        "id": "fGdSy9fcrJuA"
      },
      "source": [
        "from sklearn.metrics import accuracy_score"
      ],
      "execution_count": null,
      "outputs": []
    },
    {
      "cell_type": "code",
      "metadata": {
        "id": "gelo44RprQit",
        "colab": {
          "base_uri": "https://localhost:8080/",
          "height": 34
        },
        "outputId": "150e4eb4-2d50-4eb3-93b7-36e0c1259889"
      },
      "source": [
        "# проверяем качество алгоритма на тестовой выборке\n",
        "accuracy_score(y_test, knn.predict(X_test))"
      ],
      "execution_count": null,
      "outputs": [
        {
          "output_type": "execute_result",
          "data": {
            "text/plain": [
              "0.98"
            ]
          },
          "metadata": {
            "tags": []
          },
          "execution_count": 7
        }
      ]
    },
    {
      "cell_type": "code",
      "metadata": {
        "id": "FuejnNa_reMf"
      },
      "source": [
        "# "
      ],
      "execution_count": null,
      "outputs": []
    },
    {
      "cell_type": "markdown",
      "metadata": {
        "id": "nPSvn-ogr1XV"
      },
      "source": [
        "### Задание 1.\n",
        "Построить график K и accuracy, для train/test = 0.3"
      ]
    },
    {
      "cell_type": "code",
      "metadata": {
        "id": "bztb_mOur6Nf",
        "colab": {
          "base_uri": "https://localhost:8080/",
          "height": 265
        },
        "outputId": "08ba1eb2-d2e0-44ca-dd29-676a6128946b"
      },
      "source": [
        "%matplotlib inline\n",
        "\n",
        "import matplotlib.pyplot as plt\n",
        "acc_scores = []\n",
        "\n",
        "X_train, X_test, y_train, y_test = train_test_split(X, y, test_size=0.3, random_state=42)\n",
        "\n",
        "for k in range(1, 105):\n",
        "  knn = KNeighborsClassifier(n_neighbors=k)\n",
        "  knn.fit(X_train, y_train)\n",
        "  acc_scores.append(accuracy_score(y_test, knn.predict(X_test)))\n",
        "plt.plot(range(1, 105), acc_scores)\n",
        "plt.grid()\n",
        "plt.show()"
      ],
      "execution_count": null,
      "outputs": [
        {
          "output_type": "display_data",
          "data": {
            "image/png": "[encoded data removed]",
            "text/plain": [
              "<Figure size 432x288 with 1 Axes>"
            ]
          },
          "metadata": {
            "tags": []
          }
        }
      ]
    },
    {
      "cell_type": "markdown",
      "metadata": {
        "id": "5EnjoIHVr7HO"
      },
      "source": [
        "### Задание 2.\n",
        "\n",
        "Постройте график K и cross_val_score для ВСЕЙ выборки"
      ]
    },
    {
      "cell_type": "code",
      "metadata": {
        "id": "5jic8Z9fsBbW",
        "colab": {
          "base_uri": "https://localhost:8080/",
          "height": 265
        },
        "outputId": "976e8664-3142-45fe-9ba5-1ccaf376ce64"
      },
      "source": [
        "from sklearn.model_selection import cross_val_score, KFold\n",
        "\n",
        "%matplotlib inline\n",
        "\n",
        "import matplotlib.pyplot as plt\n",
        "acc_scores = []\n",
        "\n",
        "for k in range(1, 121):\n",
        "  knn = KNeighborsClassifier(n_neighbors=k)\n",
        "  acc_scores.append(cross_val_score(knn, X, y, cv = KFold(n_splits=5, shuffle=True)).mean())\n",
        "plt.plot(range(1, 121), acc_scores)\n",
        "plt.grid()\n",
        "plt.show()"
      ],
      "execution_count": null,
      "outputs": [
        {
          "output_type": "display_data",
          "data": {
            "image/png": "[encoded data removed]",
            "text/plain": [
              "<Figure size 432x288 with 1 Axes>"
            ]
          },
          "metadata": {
            "tags": []
          }
        }
      ]
    },
    {
      "cell_type": "markdown",
      "metadata": {
        "id": "UVYnyVmmsyAx"
      },
      "source": [
        "### Задание 3.\n",
        "* Разбейте выборку на train/test 0.8/0.2\n",
        "* Найдите наилучшее K с помощью крос-валидации на **train**\n",
        "* Проверьте, какое качество будет на test с данной моделью. \n"
      ]
    },
    {
      "cell_type": "code",
      "metadata": {
        "id": "zFWvivjD9ogR",
        "colab": {
          "base_uri": "https://localhost:8080/",
          "height": 51
        },
        "outputId": "c06d20eb-961c-4611-afb7-d24d94dac829"
      },
      "source": [
        "#тк train/test 0.8/0.2, а всего объектов 150, то train=120 test=30\n",
        "acc_scores = []\n",
        "m=0\n",
        "l=0\n",
        "# разбиваем на train и test\n",
        "X_train, X_test, y_train, y_test = train_test_split(X, y, test_size=0.2, random_state=42)\n",
        "for k in range(1, 97):\n",
        "  knn = KNeighborsClassifier(n_neighbors=k)\n",
        "  # кросс-валидация на train\n",
        "  acc_scores.append(cross_val_score(knn, X_train, y_train, cv = KFold(n_splits=5, shuffle=True)).mean())\n",
        "  if acc_scores[k-1]>m:\n",
        "    m=acc_scores[k-1]\n",
        "    l=k\n",
        "print(l,m) #найденное k и accuracy при этом k\n",
        "# проверка на test\n",
        "knn = KNeighborsClassifier(n_neighbors=l)\n",
        "print(cross_val_score(knn, X_test, y_test, cv = KFold(n_splits=5, shuffle=True)).mean())"
      ],
      "execution_count": null,
      "outputs": [
        {
          "output_type": "stream",
          "text": [
            "10 0.975\n",
            "0.9333333333333333\n"
          ],
          "name": "stdout"
        }
      ]
    },
    {
      "cell_type": "markdown",
      "metadata": {
        "id": "ULjx-uKztRic"
      },
      "source": [
        "### Задание 4.\n",
        "Используя cross_val_score для всей выборки, найдите лучший параметр k.\n",
        "\n"
      ]
    },
    {
      "cell_type": "code",
      "metadata": {
        "id": "oHBX2jNrsQ8F",
        "colab": {
          "base_uri": "https://localhost:8080/",
          "height": 34
        },
        "outputId": "505704f4-3892-4f29-b8be-c00c898e8885"
      },
      "source": [
        "acc_scores = []\n",
        "m=0\n",
        "l=0\n",
        "for k in range(1, 121):\n",
        "  knn = KNeighborsClassifier(n_neighbors=k)\n",
        "  acc_scores.append(cross_val_score(knn, X, y, cv = KFold(n_splits=5, shuffle=True)).mean())\n",
        "  if acc_scores[k-1]>m:\n",
        "    m=acc_scores[k-1]\n",
        "    l=k\n",
        "print(l)"
      ],
      "execution_count": null,
      "outputs": [
        {
          "output_type": "stream",
          "text": [
            "11\n"
          ],
          "name": "stdout"
        }
      ]
    },
    {
      "cell_type": "markdown",
      "metadata": {
        "id": "e31_jiWwW2fD"
      },
      "source": [
        "## Задание 5 (доп)\n",
        "\n",
        "Попробуйте получить наилучшее качество кросс-валидации, изменяя параметры:\n",
        "* k\n",
        "* p\n",
        "* weights"
      ]
    },
    {
      "cell_type": "code",
      "metadata": {
        "id": "8Yq9EBdjW_Vt",
        "colab": {
          "base_uri": "https://localhost:8080/",
          "height": 34
        },
        "outputId": "9b377cbc-e711-4af9-cffb-2ae6d185808b"
      },
      "source": [
        "#изменение k\n",
        "acc_scores = []\n",
        "m=0\n",
        "l=0\n",
        "for k in range(1, 120):\n",
        "  knn = KNeighborsClassifier(n_neighbors=k)\n",
        "  acc_scores.append(cross_val_score(knn, X, y, cv = KFold(n_splits=5, shuffle=True)).mean())\n",
        "  if acc_scores[k-1]>m:\n",
        "    m=acc_scores[k-1]\n",
        "    l=k\n",
        "print(m,l)"
      ],
      "execution_count": null,
      "outputs": [
        {
          "output_type": "stream",
          "text": [
            "0.9733333333333334 12\n"
          ],
          "name": "stdout"
        }
      ]
    },
    {
      "cell_type": "code",
      "metadata": {
        "id": "ibVPsDQIytjv"
      },
      "source": [
        ""
      ],
      "execution_count": null,
      "outputs": []
    }
  ]
}