{
  "nbformat": 4,
  "nbformat_minor": 0,
  "metadata": {
    "colab": {
      "name": "simple_recommender_(1).ipynb",
      "provenance": [],
      "collapsed_sections": [],
      "toc_visible": true,
      "include_colab_link": true
    },
    "kernelspec": {
      "name": "python3",
      "display_name": "Python 3"
    }
  },
  "cells": [
    {
      "cell_type": "markdown",
      "metadata": {
        "id": "view-in-github",
        "colab_type": "text"
      },
      "source": [
        "<a href=\"https://colab.research.google.com/github/AnnaKraim/ML/blob/main/simple_recommender_(1).ipynb\" target=\"_parent\"><img src=\"https://colab.research.google.com/assets/colab-badge.svg\" alt=\"Open In Colab\"/></a>"
      ]
    },
    {
      "cell_type": "markdown",
      "metadata": {
        "id": "M7sSGq0fB6K-"
      },
      "source": [
        "### Как связаны вектора и рекомендательные системы ?\n",
        "#### Пишем маленький анализ.\n",
        "\n",
        "Данный плейбук состоит из задач, связанных с применением векторов как инструмента рекомендательных систем.\n",
        "\n",
        "Общая идея задачи - найти пользователей с близкими интересами.\n",
        "\n",
        "Для вас собран тестовый датасет, где пользователь выражает свой интерес к той или иной вещи. \n",
        "\n",
        "Ваша задача в данной тетрадке найди похожих и не похожих пользователей. Что же, поехали!"
      ]
    },
    {
      "cell_type": "markdown",
      "metadata": {
        "id": "op5UMHtQCiCN"
      },
      "source": [
        "### Задание 0. Чтение и просмотр данных.\n",
        "\n",
        "В машинном обучении и Data Science данные принято хранить в виде таблицы объект, признак. \n",
        "\n",
        "Например, если есть два пользователя и нужно хранить их рост, пол, вес то данная таблица будет выглядить вот так:\n",
        "\n",
        "Рост Вес Пол\n",
        "\n",
        "160  55  0\n",
        "180  85  1\n",
        "\n",
        "Примером могут служить обычные excel таблицы.\n",
        "\n",
        "\n",
        "---\n",
        "\n",
        "\n",
        "\n",
        "Однако DataScienc'исты и программисты предпочитают формат **csv**: comma separated value. \n",
        "\n",
        "Это такие файлы, которые просто содержат список значений через запятую. На этом курсе мы часто будем работать именно с такими файлами используя различные инструменты, однако сегодня мы будем работать с ними вручную.\n",
        "\n"
      ]
    },
    {
      "cell_type": "markdown",
      "metadata": {
        "id": "_mHI74JjEE1d"
      },
      "source": [
        "Давайте считаем файлы **user0.csv** и посмотрим что в нем находится"
      ]
    },
    {
      "cell_type": "code",
      "metadata": {
        "id": "-o5ROBafAq8n",
        "colab": {
          "base_uri": "https://localhost:8080/",
          "height": 85
        },
        "outputId": "fd0202b2-2ecd-48b0-e2ed-35c8a8eeadda"
      },
      "source": [
        "lines = open('users0.csv').readlines()\n",
        "lines[0:4]"
      ],
      "execution_count": null,
      "outputs": [
        {
          "output_type": "execute_result",
          "data": {
            "text/plain": [
              "['Имя,Отношение к алкоголю,Отношение к курению,Котики,Собачки,Реп-музыка,Рок-музыка,Читать,Кофе,Гулять\\n',\n",
              " 'Ваня,1,0,1,1,1,1,1,1,1\\n',\n",
              " 'Полина,1,0,1,1,1,1,1,1,1\\n',\n",
              " 'Коля,0,0,1,1,1,1,1,1,1\\n']"
            ]
          },
          "metadata": {
            "tags": []
          },
          "execution_count": 2
        }
      ]
    },
    {
      "cell_type": "markdown",
      "metadata": {
        "id": "kUwuIMKXFUCZ"
      },
      "source": [
        "Видно, что первая строка csv файлов обычно содержит поля, остальные строки содержат значение полей через запятую.\n",
        "\n",
        "Чтобы избежать проблем с парсингом запятых и переносов строк, воспользуемся стандартной библиотекой python для чтения csv файлов."
      ]
    },
    {
      "cell_type": "code",
      "metadata": {
        "id": "TR_Cq32mElEB",
        "colab": {
          "base_uri": "https://localhost:8080/",
          "height": 258
        },
        "outputId": "67856ccf-a738-4783-ca47-b27cb1a2b148"
      },
      "source": [
        "import csv\n",
        "with open('users0.csv') as csvfile:\n",
        "    readCSV = csv.reader(csvfile, delimiter=',')\n",
        "    for row in readCSV:\n",
        "        print(row[0], row[1:])"
      ],
      "execution_count": null,
      "outputs": [
        {
          "output_type": "stream",
          "text": [
            "Имя ['Отношение к алкоголю', 'Отношение к курению', 'Котики', 'Собачки', 'Реп-музыка', 'Рок-музыка', 'Читать', 'Кофе', 'Гулять']\n",
            "Ваня ['1', '0', '1', '1', '1', '1', '1', '1', '1']\n",
            "Полина ['1', '0', '1', '1', '1', '1', '1', '1', '1']\n",
            "Коля ['0', '0', '1', '1', '1', '1', '1', '1', '1']\n",
            "Лиза ['-1', '-1', '1', '1', '1', '1', '1', '1', '1']\n",
            "Рома ['1', '0', '1', '1', '0', '1', '1', '1', '0']\n",
            "Катя ['1', '0', '1', '1', '1', '1', '1', '0', '1']\n",
            "Саша ['-1', '1', '1', '1', '1', '1', '1', '1', '1']\n",
            "Олеся ['-1', '-1', '1', '1', '-1', '1', '1', '1', '1']\n",
            "Диана ['0', '-1', '1', '1', '1', '1', '1', '1', '1']\n",
            "Нейтан ['1', '0', '1', '0', '1', '1', '0', '-1', '1']\n",
            "Паша ['1', '1', '1', '1', '1', '1', '1', '1', '1']\n",
            "Маша ['0', '1', '1', '0', '0', '1', '1', '-1', '-1']\n"
          ],
          "name": "stdout"
        }
      ]
    },
    {
      "cell_type": "markdown",
      "metadata": {
        "id": "IkPUILG_Gk68"
      },
      "source": [
        "Давайте напишем код, который считает всех пользователей в один массив, с которым нам будет удобно работать."
      ]
    },
    {
      "cell_type": "code",
      "metadata": {
        "id": "cVgxFz7jGB27",
        "colab": {
          "base_uri": "https://localhost:8080/",
          "height": 71
        },
        "outputId": "1506869d-46d7-42db-f933-ae2fbafbb7ce"
      },
      "source": [
        "import numpy as np\n",
        "from collections import namedtuple\n",
        "\n",
        "# Мы используем структуру namedtuple чтобы создать массив\n",
        "# к которому можно обращаться как к классу.\n",
        "User = namedtuple(\"User\", [\"Name\", \"Interest\"])\n",
        "users = []\n",
        "with open('users0.csv') as csvfile:\n",
        "    readCSV = csv.reader(csvfile, delimiter=',')\n",
        "    for i, row in enumerate(readCSV):\n",
        "      # Пропустим строчку-заголовок\n",
        "      if i == 0:\n",
        "        continue\n",
        "      name = row[0]\n",
        "      # Считываем вектор интересов и приводим к типу одной строчкой\n",
        "      interests = np.array(row[1:], dtype='int')\n",
        "      users.append(User(name, interests))\n",
        "print(users[0:2])\n",
        "# Получить массив интересов 3 пользователя и его имя\n",
        "print(users[2].Name, users[2].Interest)\n"
      ],
      "execution_count": null,
      "outputs": [
        {
          "output_type": "stream",
          "text": [
            "[User(Name='Ваня', Interest=array([1, 0, 1, 1, 1, 1, 1, 1, 1])), User(Name='Полина', Interest=array([1, 0, 1, 1, 1, 1, 1, 1, 1]))]\n",
            "Коля [0 0 1 1 1 1 1 1 1]\n"
          ],
          "name": "stdout"
        }
      ]
    },
    {
      "cell_type": "markdown",
      "metadata": {
        "id": "PefkhZcbIH_k"
      },
      "source": [
        "### Задание 1. Ищем бинарных похожих.\n",
        "\n",
        "В файле users0.csv дана анкета для нескольких пользователей.\n",
        "\n",
        "Анкета содержит несколько вопросов, на которые пользователь может ответить:\n",
        "\n",
        "*   Отрицательно (-1)\n",
        "*   Нейтрально (0)\n",
        "*   Положительно (1)\n",
        "\n",
        "Например, если в столбце **Котики** у пользователя стоит **1**, значит он положительно относится к котикам **^._.^**.\n",
        "\n",
        "Используя векторы и зная, что все значения принимают 1, 0 и -1, мы можем попробовать найти похожих пользователей используя формулу **скалярного произведения**.\n",
        "\n",
        "Идея простая: возьмем для примера вектор интереса пользователя Петя: Он любит котиков, и любит игры, но не любит собачек.\n",
        "\n",
        "Вектор Пети будет (1,1,-1). \n",
        "\n",
        "У него есть подружка Маша, она тоже любит котиков, тоже любит игры, нейтрально относится к собачкам.\n",
        "\n",
        "Вектор Маши будет (1,1,0)\n",
        "\n",
        "Если мы перемножим вектор Пети на вектор Маши, мы получим \n",
        "\n",
        "$ 1 \\cdot 1 + 1 \\cdot 1 + -1 \\cdot 0 = 2$\n",
        "\n",
        "Если мы возьмем пример человека, который не любит котиков, не люит игры, но любит собачек и умножим его на вектор Пети, то получим \n",
        "\n",
        "$ 1 \\cdot -1 + 1 \\cdot -1 + -1 \\cdot 1 = -3$\n",
        "\n",
        "-3 меньше 2, очевидно что Маша ближе к Пете чем человек, который имеет абсолютно другие интересы.\n",
        "\n",
        "\n",
        "\n"
      ]
    },
    {
      "cell_type": "markdown",
      "metadata": {
        "id": "L22OX7CYKkCQ"
      },
      "source": [
        ""
      ]
    },
    {
      "cell_type": "markdown",
      "metadata": {
        "id": "3G2h5tDnKnMI"
      },
      "source": [
        "#### Задание 1.1 \n",
        "\n",
        "* Прочитайте файл **users0.csv** в массив **users** как показано в Задании 0\n",
        "\n",
        "* Попробуйте посчитать скалярное произведение для первого и второго пользователя (Ваня и Полина). Какое получилось произведение ? Что можно сказать про интересы данных пользователей ?"
      ]
    },
    {
      "cell_type": "code",
      "metadata": {
        "id": "SqjJPJsfKjXn",
        "colab": {
          "base_uri": "https://localhost:8080/",
          "height": 34
        },
        "outputId": "5b241a69-2459-48c1-9064-32fa6f2cd7f4"
      },
      "source": [
        "def sp(us1,us2):\n",
        "  return us1.Interest.dot(us2.Interest)\n",
        "print(sp(users[0],users[1]),\"Интересы сильно совпадают\")"
      ],
      "execution_count": null,
      "outputs": [
        {
          "output_type": "stream",
          "text": [
            "8 Интересы сильно совпадают\n"
          ],
          "name": "stdout"
        }
      ]
    },
    {
      "cell_type": "markdown",
      "metadata": {
        "id": "UGa52ygdL5q6"
      },
      "source": [
        "#### Задание 1.2\n",
        "\n",
        "* Какой пользователь наиболее близок Коле ?\n",
        "\n",
        "* Какой пользователь наиболее близок Олесе ?\n",
        "\n",
        "* Какой пользователь наиболее далек от Нейтана ?\n",
        "\n",
        "Для каждого вопроса дайте ответ в виде пары пользователь, скалярное произведение\n",
        "\n"
      ]
    },
    {
      "cell_type": "code",
      "metadata": {
        "id": "0O7tqRdsG3Hy",
        "colab": {
          "base_uri": "https://localhost:8080/",
          "height": 68
        },
        "outputId": "ebe9ed71-f871-4ee5-9a41-59f28d72a0f7"
      },
      "source": [
        "s=\"\"\n",
        "max=[-10]*3\n",
        "max[2]=10\n",
        "for j in (2,7,9):\n",
        "  for i in range(12):\n",
        "    if i!=j and j!=9 and sp(users[j],users[i])>max[j//4]:\n",
        "      max[j//4]=sp(users[j],users[i])\n",
        "      s=users[i].Name\n",
        "    if i!=j and j==9 and sp(users[j],users[i])<max[j//4]:\n",
        "      max[j//4]=sp(users[j],users[i])\n",
        "      s=users[i].Name\n",
        "  print(s,max[j//4])"
      ],
      "execution_count": null,
      "outputs": [
        {
          "output_type": "stream",
          "text": [
            "Ваня 7\n",
            "Лиза 7\n",
            "Олеся 0\n"
          ],
          "name": "stdout"
        }
      ]
    },
    {
      "cell_type": "markdown",
      "metadata": {
        "id": "63KUoF9UMMUL"
      },
      "source": [
        "#### Задание 1.3\n",
        "\n",
        "Для каждого пользователя выдайте двух наиболее близких к нему других пользователей.\n",
        "\n"
      ]
    },
    {
      "cell_type": "code",
      "metadata": {
        "id": "9LIfw-KaMU15",
        "colab": {
          "base_uri": "https://localhost:8080/",
          "height": 221
        },
        "outputId": "77d24697-e3a2-41f7-e808-c021aea049bd"
      },
      "source": [
        "i1=-1\n",
        "i2=-1\n",
        "max1=[-10]*12\n",
        "max2=[-10]*12\n",
        "for j in range(12):\n",
        "  for i in range(12):\n",
        "    if i!=j and sp(users[j],users[i])>max1[j]:\n",
        "      max1[j]=sp(users[j],users[i])\n",
        "      i1=i\n",
        "  for i in range(12):\n",
        "    if i!=j and sp(users[j],users[i])>max2[j] and i!=i1:\n",
        "      max2[j]=sp(users[j],users[i])\n",
        "      i2=i\n",
        "  \n",
        "  print(users[i1].Name,max1[j],users[i2].Name,max2[j])"
      ],
      "execution_count": null,
      "outputs": [
        {
          "output_type": "stream",
          "text": [
            "Полина 8 Паша 8\n",
            "Ваня 8 Паша 8\n",
            "Ваня 7 Полина 7\n",
            "Диана 8 Коля 7\n",
            "Ваня 6 Полина 6\n",
            "Ваня 7 Полина 7\n",
            "Коля 7 Лиза 7\n",
            "Лиза 7 Диана 6\n",
            "Лиза 8 Ваня 7\n",
            "Катя 5 Ваня 4\n",
            "Ваня 8 Полина 8\n",
            "Рома 2 Катя 2\n"
          ],
          "name": "stdout"
        }
      ]
    },
    {
      "cell_type": "markdown",
      "metadata": {
        "id": "I8LpUdUsMdaH"
      },
      "source": [
        "### Задание 2. Добавляем чиселки.\n",
        "\n",
        "\n",
        "Очевидно, что в реальных данных мы чаще всего имеем отношение с числовыми значениями. \n",
        "\n",
        "В файле **users1.csv** содержатся те же пользователи, но оценки теперь представлены в виде чисел от 1 до 10 включительно.\n",
        "\n",
        "Файлы **users0.csv** и **users1.csv** соотносятся как, если оценка по 10 бальной была меньше 4, то ставим -1, если больше 6, то ставим 1, остальное - 0\n",
        "\n",
        "Можно ли использовать формулу скалярного произведения для векторов с числовыми значениями ? \n",
        "\n",
        "\n",
        "#### Задание 2.1 Считываем опять.\n",
        "\n",
        "* Считайте данные из файла user1.csv\n",
        "* Попробуйте посчитать скалярное произведение между первым и всеми остальными пользователями.\n",
        "* Сравните наиболее подходящего пользователя с результатом задания 1.3. Почему так получилось ?\n",
        "\n",
        "\n"
      ]
    },
    {
      "cell_type": "code",
      "metadata": {
        "id": "l0a2FCGRNKs_",
        "colab": {
          "base_uri": "https://localhost:8080/",
          "height": 204
        },
        "outputId": "2cc2b2c7-d782-4573-dd2a-e2c4e0718c88"
      },
      "source": [
        "User = namedtuple(\"User\", [\"Name\", \"Interest\"])\n",
        "users = []\n",
        "with open('users1.csv') as csvfile:\n",
        "    readCSV = csv.reader(csvfile, delimiter=',')\n",
        "    for i, row in enumerate(readCSV):\n",
        "      # Пропустим строчку-заголовок\n",
        "      if i == 0:\n",
        "        continue\n",
        "      name = row[0]\n",
        "      # Считываем вектор интересов и приводим к типу одной строчкой\n",
        "      interests = np.array(row[1:], dtype='int')\n",
        "      users.append(User(name, interests))\n",
        "for i in range(1,12):\n",
        "  print(users[i].Name,sp(users[0],users[i]))\n",
        "\n"
      ],
      "execution_count": null,
      "outputs": [
        {
          "output_type": "stream",
          "text": [
            "Полина 440\n",
            "Коля 437\n",
            "Лиза 402\n",
            "Рома 355\n",
            "Катя 366\n",
            "Саша 403\n",
            "Олеся 377\n",
            "Диана 363\n",
            "Нейтан 355\n",
            "Паша 440\n",
            "Маша 381\n"
          ],
          "name": "stdout"
        }
      ]
    },
    {
      "cell_type": "markdown",
      "metadata": {
        "id": "5XiutbWRNv6n"
      },
      "source": [
        "#### Задание 2.2 Косинусное расстояние\n",
        "\n",
        "В данном задании вам опять нужно будет находить похожих пользователей, однако теперь мы будем использовать косинусное расстояние для определения \"похожести\" двух векторов.\n",
        "\n",
        "**Косинусная мера** - мера сходства между двумя векторами, которая высчитывает косинус угла между двумя векторами.\n",
        "\n",
        "![alt text](https://wikimedia.org/api/rest_v1/media/math/render/svg/2a8c50526e2cc7aa837477be87eff1ea703f9dec)\n",
        "\n",
        "[ссылка](https://wikimedia.org/api/rest_v1/media/math/render/svg/2a8c50526e2cc7aa837477be87eff1ea703f9dec)\n",
        "\n",
        "#### Реализуйте функцию вычисления косинусного расстояния между двумя векторами используя numpy."
      ]
    },
    {
      "cell_type": "code",
      "metadata": {
        "id": "6AuEx7xtPHmS"
      },
      "source": [
        "import math\n",
        "import numpy as np\n",
        "def cos_distance(a,b):\n",
        "  s=a.dot(b)\n",
        "  dl=(math.sqrt(sum(a*a))*math.sqrt(sum(b*b)))\n",
        "  c=s/dl\n",
        "  return c"
      ],
      "execution_count": null,
      "outputs": []
    },
    {
      "cell_type": "code",
      "metadata": {
        "id": "qIM3K2MCQWKH",
        "colab": {
          "base_uri": "https://localhost:8080/",
          "height": 34
        },
        "outputId": "0fb172e5-faa6-4800-cf94-e1cf6819a5d3"
      },
      "source": [
        "# Для проверки себя:\n",
        "\n",
        "a = np.array([1,2,3,4])\n",
        "b = np.array([1,2,3,3])\n",
        "round(cos_distance(a,b), 3) == 0.99"
      ],
      "execution_count": null,
      "outputs": [
        {
          "output_type": "execute_result",
          "data": {
            "text/plain": [
              "True"
            ]
          },
          "metadata": {
            "tags": []
          },
          "execution_count": 3
        }
      ]
    },
    {
      "cell_type": "markdown",
      "metadata": {
        "id": "RzX113j4Q41a"
      },
      "source": [
        "#### Задание 2.3 Ищем похожих\n",
        "\n",
        "С помощью функции косинусного расстояния, найдите: \n",
        "\n",
        "*   Наиболее похожего для Дианы\n",
        "*   Наиболее непохожего для Нэйтана\n",
        "\n",
        "\n"
      ]
    },
    {
      "cell_type": "code",
      "metadata": {
        "id": "fPButKNbQNuI",
        "colab": {
          "base_uri": "https://localhost:8080/",
          "height": 51
        },
        "outputId": "fd96b7f0-6626-4c20-ce74-0c54139143bb"
      },
      "source": [
        "s=\"\"\n",
        "max=[-10]*2\n",
        "max[1]=10\n",
        "j=8\n",
        "for i in range(12):\n",
        "  if i!=j and cos_distance(users[j].Interest,users[i].Interest)>max[j//9]:\n",
        "    max[j//9]=cos_distance(users[j].Interest,users[i].Interest)\n",
        "    s=users[i].Name\n",
        "print(s,max[j//9])\n",
        "j=9\n",
        "for i in range(12):\n",
        "  if i!=j and cos_distance(users[j].Interest,users[i].Interest)<max[j//9]:\n",
        "    max[j//9]=cos_distance(users[j].Interest,users[i].Interest)\n",
        "    s=users[i].Name\n",
        "print(s,max[j//9])"
      ],
      "execution_count": null,
      "outputs": [
        {
          "output_type": "stream",
          "text": [
            "Ваня 0.9913815228185777\n",
            "Олеся 0.8384767138930074\n"
          ],
          "name": "stdout"
        }
      ]
    },
    {
      "cell_type": "markdown",
      "metadata": {
        "id": "Var4FHbRRirG"
      },
      "source": [
        "#### Задание 2.4 Ищем похожих\n",
        "С помощью функции косинусного расстояния, найдите для каждого пользователя найдите двух наиболее похожих на него.\n",
        "\n",
        "Сравните с результами из задания 1. \n",
        "\n",
        "Есть ли совпадения ? Интерпретируйте результат"
      ]
    },
    {
      "cell_type": "code",
      "metadata": {
        "id": "TIkzHvCXRhEL",
        "colab": {
          "base_uri": "https://localhost:8080/",
          "height": 238
        },
        "outputId": "04eac550-1ff0-4280-e6fc-88a8cec0d7f5"
      },
      "source": [
        "i1=-1\n",
        "i2=-1\n",
        "max1=[-10]*12\n",
        "max2=[-10]*12\n",
        "for j in range(12):\n",
        "  for i in range(12):\n",
        "    if i!=j and cos_distance(users[j].Interest,users[i].Interest)>max1[j]:\n",
        "      max1[j]=cos_distance(users[j].Interest,users[i].Interest)\n",
        "      i1=i\n",
        "  for i in range(12):\n",
        "    if i!=j and cos_distance(users[j].Interest,users[i].Interest)>max2[j] and i!=i1:\n",
        "      max2[j]=cos_distance(users[j].Interest,users[i].Interest)\n",
        "      i2=i\n",
        "  \n",
        "  print(users[i1].Name,round(max1[j],3),users[i2].Name,round(max2[j],3))\n",
        "print(\"Иногда встречаются совпадения, но редко\")"
      ],
      "execution_count": null,
      "outputs": [
        {
          "output_type": "stream",
          "text": [
            "Диана 0.991 Коля 0.989\n",
            "Катя 0.983 Саша 0.976\n",
            "Диана 0.991 Ваня 0.989\n",
            "Коля 0.984 Олеся 0.973\n",
            "Коля 0.977 Ваня 0.976\n",
            "Полина 0.983 Коля 0.977\n",
            "Ваня 0.987 Коля 0.979\n",
            "Лиза 0.973 Коля 0.95\n",
            "Ваня 0.991 Коля 0.991\n",
            "Маша 0.97 Катя 0.968\n",
            "Ваня 0.987 Саша 0.977\n",
            "Катя 0.972 Нейтан 0.97\n",
            "Иногда встречаются совпадения, но редко\n"
          ],
          "name": "stdout"
        }
      ]
    },
    {
      "cell_type": "markdown",
      "metadata": {
        "id": "PsVlVHvCSGhq"
      },
      "source": [
        "### Задание 3. Добавляем возраст.\n",
        "\n",
        "В файле **users_age.csv** в первой колонке записан возраст пользователя.\n",
        "\n",
        "Будем считать, что мы также хотим учитывать возраст как один из параметров нашей модели и считать двух пользователей более похожими, если они примерно одного возраста.\n",
        "\n",
        "\n",
        "#### Задание 3.1\n",
        "\n",
        "Считайте данные из users_age.csv и повторите задание 2.4. \n",
        "\n",
        "Сильно ли изменились результаты ? \n",
        "\n"
      ]
    },
    {
      "cell_type": "code",
      "metadata": {
        "id": "dxa2Ux-kSEM-",
        "colab": {
          "base_uri": "https://localhost:8080/",
          "height": 238
        },
        "outputId": "5a8a90d5-0840-4cf2-baf7-a39d4e499052"
      },
      "source": [
        "User = namedtuple(\"User\", [\"Name\", \"Interest\"])\n",
        "users = []\n",
        "with open('users_with_age.csv') as csvfile:\n",
        "    readCSV = csv.reader(csvfile, delimiter=',')\n",
        "    for i, row in enumerate(readCSV):\n",
        "      # Пропустим строчку-заголовок\n",
        "      if i == 0:\n",
        "        continue\n",
        "      name = row[0]\n",
        "      # Считываем вектор интересов и приводим к типу одной строчкой\n",
        "      interests = np.array(row[1:], dtype='int')\n",
        "      users.append(User(name, interests))\n",
        "i1=-1\n",
        "i2=-1\n",
        "max1=[-10]*12\n",
        "max2=[-10]*12\n",
        "for j in range(12):\n",
        "  for i in range(12):\n",
        "    if i!=j and cos_distance(users[j].Interest,users[i].Interest)>max1[j]:\n",
        "      max1[j]=cos_distance(users[j].Interest,users[i].Interest)\n",
        "      i1=i\n",
        "  for i in range(12):\n",
        "    if i!=j and cos_distance(users[j].Interest,users[i].Interest)>max2[j] and i!=i1:\n",
        "      max2[j]=cos_distance(users[j].Interest,users[i].Interest)\n",
        "      i2=i\n",
        "  \n",
        "  print(users[i1].Name,round(max1[j],3),users[i2].Name,round(max2[j],3))\n",
        "print(\"У некоторых пользователей результаты изменились сильно\")"
      ],
      "execution_count": null,
      "outputs": [
        {
          "output_type": "stream",
          "text": [
            "Коля 0.995 Саша 0.99\n",
            "Коля 0.987 Саша 0.986\n",
            "Ваня 0.995 Лиза 0.992\n",
            "Коля 0.992 Олеся 0.984\n",
            "Катя 0.989 Паша 0.987\n",
            "Маша 0.991 Нейтан 0.989\n",
            "Ваня 0.99 Коля 0.987\n",
            "Лиза 0.984 Коля 0.974\n",
            "Ваня 0.989 Паша 0.989\n",
            "Катя 0.989 Маша 0.989\n",
            "Диана 0.989 Рома 0.987\n",
            "Катя 0.991 Нейтан 0.989\n",
            "У некоторых пользователей результаты изменились сильно\n"
          ],
          "name": "stdout"
        }
      ]
    },
    {
      "cell_type": "markdown",
      "metadata": {
        "id": "OeIVpdOKSttz"
      },
      "source": [
        "#### Задание 3.1\n",
        "\n",
        "\n",
        "Возраст, в отличие от остальных факторов измеряется от 18 до 31 в данном датасете, нужно ли как-то масштабировать этот признак ?\n",
        "\n",
        "Попробуйте отмасштабировать признак возраст:\n",
        "\n",
        "Пусть возраст \n",
        "* 18 - 1\n",
        "* 31 - 10\n",
        "\n",
        "**Посчитайте косинусное расстояние между Колей и Ваней до масштабирования возраста и после**\n",
        "\n",
        "Изменилось ли оно ?\n"
      ]
    },
    {
      "cell_type": "code",
      "metadata": {
        "id": "2FVx_bFrTU5L",
        "colab": {
          "base_uri": "https://localhost:8080/",
          "height": 68
        },
        "outputId": "6278e89c-409e-473b-81a9-fa1c7b007bb6"
      },
      "source": [
        "print(cos_distance(users[0].Interest,users[2].Interest))\n",
        "for i in range(12):\n",
        "  users[i].Interest[0]=1+(users[i].Interest[0]-18)*(9/13)\n",
        "print(cos_distance(users[0].Interest,users[2].Interest))\n",
        "print(\"Да, изменилось\")"
      ],
      "execution_count": null,
      "outputs": [
        {
          "output_type": "stream",
          "text": [
            "0.994624826177789\n",
            "0.9893659917194179\n",
            "Да, изменилось\n"
          ],
          "name": "stdout"
        }
      ]
    }
  ]
}